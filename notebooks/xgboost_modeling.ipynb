{
 "cells": [
  {
   "cell_type": "code",
   "execution_count": 40,
   "metadata": {},
   "outputs": [],
   "source": [
    "import pandas as pd\n",
    "\n",
    "# To Visualize Data\n",
    "import matplotlib.pyplot as plt\n",
    "import seaborn as sns\n",
    "\n",
    "# To Train our data\n",
    "from xgboost import XGBClassifier\n",
    "import xgboost as xgb\n",
    "from sklearn.model_selection import train_test_split\n",
    "from sklearn.preprocessing import StandardScaler, LabelEncoder\n",
    "from sklearn.pipeline import Pipeline\n",
    "from sklearn.preprocessing import FunctionTransformer\n",
    "\n",
    "# To evaluate end result we have\n",
    "from sklearn.metrics import accuracy_score, confusion_matrix\n",
    "from sklearn.model_selection import LeaveOneOut\n",
    "from sklearn.model_selection import cross_val_score\n",
    "\n",
    "import sys\n",
    "import warnings\n",
    "\n",
    "warnings.filterwarnings('ignore')"
   ]
  },
  {
   "cell_type": "code",
   "execution_count": 2,
   "metadata": {},
   "outputs": [],
   "source": [
    "sys.path.insert(1, \"../scripts\")\n",
    "from ml_processors import ML_Processor as MLP\n",
    "\n",
    "mlp = MLP()"
   ]
  },
  {
   "cell_type": "code",
   "execution_count": 51,
   "metadata": {},
   "outputs": [],
   "source": [
    "ml_data =  pd.read_csv('../data/facebook_data.csv')"
   ]
  },
  {
   "cell_type": "code",
   "execution_count": 52,
   "metadata": {},
   "outputs": [
    {
     "data": {
      "text/html": [
       "<div>\n",
       "<style scoped>\n",
       "    .dataframe tbody tr th:only-of-type {\n",
       "        vertical-align: middle;\n",
       "    }\n",
       "\n",
       "    .dataframe tbody tr th {\n",
       "        vertical-align: top;\n",
       "    }\n",
       "\n",
       "    .dataframe thead th {\n",
       "        text-align: right;\n",
       "    }\n",
       "</style>\n",
       "<table border=\"1\" class=\"dataframe\">\n",
       "  <thead>\n",
       "    <tr style=\"text-align: right;\">\n",
       "      <th></th>\n",
       "      <th>auction_id</th>\n",
       "      <th>experiment</th>\n",
       "      <th>date</th>\n",
       "      <th>hour</th>\n",
       "      <th>device_make</th>\n",
       "      <th>browser</th>\n",
       "      <th>yes</th>\n",
       "    </tr>\n",
       "  </thead>\n",
       "  <tbody>\n",
       "    <tr>\n",
       "      <th>0</th>\n",
       "      <td>00b6fadb-10bd-49e3-a778-290da82f7a8d</td>\n",
       "      <td>control</td>\n",
       "      <td>2020-07-08</td>\n",
       "      <td>4</td>\n",
       "      <td>Samsung SM-A202F</td>\n",
       "      <td>Facebook</td>\n",
       "      <td>1</td>\n",
       "    </tr>\n",
       "    <tr>\n",
       "      <th>1</th>\n",
       "      <td>023458f7-122d-475f-9525-1b9a3cc7a033</td>\n",
       "      <td>control</td>\n",
       "      <td>2020-07-03</td>\n",
       "      <td>15</td>\n",
       "      <td>MRD-LX1</td>\n",
       "      <td>Facebook</td>\n",
       "      <td>0</td>\n",
       "    </tr>\n",
       "  </tbody>\n",
       "</table>\n",
       "</div>"
      ],
      "text/plain": [
       "                             auction_id experiment        date  hour  \\\n",
       "0  00b6fadb-10bd-49e3-a778-290da82f7a8d    control  2020-07-08     4   \n",
       "1  023458f7-122d-475f-9525-1b9a3cc7a033    control  2020-07-03    15   \n",
       "\n",
       "        device_make   browser  yes  \n",
       "0  Samsung SM-A202F  Facebook    1  \n",
       "1           MRD-LX1  Facebook    0  "
      ]
     },
     "execution_count": 52,
     "metadata": {},
     "output_type": "execute_result"
    }
   ],
   "source": [
    "columns_to_be_dropped = ['no','SAID_YES']\n",
    "ml_data_clean = ml_data.drop(columns_to_be_dropped,axis=1)\n",
    "ml_data_clean.head(2)"
   ]
  },
  {
   "cell_type": "code",
   "execution_count": 53,
   "metadata": {},
   "outputs": [
    {
     "name": "stdout",
     "output_type": "stream",
     "text": [
      "Numerical Columns: ['auction_id', 'experiment', 'date', 'device_make', 'browser']\n",
      "****************\n",
      "Categorical Columns: ['hour', 'yes']\n"
     ]
    }
   ],
   "source": [
    "\n",
    "cat, num = mlp.sep_cat_num(ml_data_clean)\n",
    "print(\"Numerical Columns:\", cat)\n",
    "print(\"****************\")\n",
    "print(\"Categorical Columns:\", num)"
   ]
  },
  {
   "cell_type": "code",
   "execution_count": 54,
   "metadata": {},
   "outputs": [
    {
     "data": {
      "text/html": [
       "<div>\n",
       "<style scoped>\n",
       "    .dataframe tbody tr th:only-of-type {\n",
       "        vertical-align: middle;\n",
       "    }\n",
       "\n",
       "    .dataframe tbody tr th {\n",
       "        vertical-align: top;\n",
       "    }\n",
       "\n",
       "    .dataframe thead th {\n",
       "        text-align: right;\n",
       "    }\n",
       "</style>\n",
       "<table border=\"1\" class=\"dataframe\">\n",
       "  <thead>\n",
       "    <tr style=\"text-align: right;\">\n",
       "      <th></th>\n",
       "      <th>auction_id</th>\n",
       "      <th>experiment</th>\n",
       "      <th>date</th>\n",
       "      <th>device_make</th>\n",
       "      <th>browser</th>\n",
       "    </tr>\n",
       "  </thead>\n",
       "  <tbody>\n",
       "    <tr>\n",
       "      <th>count</th>\n",
       "      <td>156</td>\n",
       "      <td>156</td>\n",
       "      <td>156</td>\n",
       "      <td>156</td>\n",
       "      <td>156</td>\n",
       "    </tr>\n",
       "    <tr>\n",
       "      <th>unique</th>\n",
       "      <td>156</td>\n",
       "      <td>2</td>\n",
       "      <td>8</td>\n",
       "      <td>63</td>\n",
       "      <td>1</td>\n",
       "    </tr>\n",
       "    <tr>\n",
       "      <th>top</th>\n",
       "      <td>00b6fadb-10bd-49e3-a778-290da82f7a8d</td>\n",
       "      <td>control</td>\n",
       "      <td>2020-07-03</td>\n",
       "      <td>Samsung SM-G960F</td>\n",
       "      <td>Facebook</td>\n",
       "    </tr>\n",
       "    <tr>\n",
       "      <th>freq</th>\n",
       "      <td>1</td>\n",
       "      <td>112</td>\n",
       "      <td>47</td>\n",
       "      <td>16</td>\n",
       "      <td>156</td>\n",
       "    </tr>\n",
       "  </tbody>\n",
       "</table>\n",
       "</div>"
      ],
      "text/plain": [
       "                                  auction_id experiment        date  \\\n",
       "count                                    156        156         156   \n",
       "unique                                   156          2           8   \n",
       "top     00b6fadb-10bd-49e3-a778-290da82f7a8d    control  2020-07-03   \n",
       "freq                                       1        112          47   \n",
       "\n",
       "             device_make   browser  \n",
       "count                156       156  \n",
       "unique                63         1  \n",
       "top     Samsung SM-G960F  Facebook  \n",
       "freq                  16       156  "
      ]
     },
     "execution_count": 54,
     "metadata": {},
     "output_type": "execute_result"
    }
   ],
   "source": [
    "ml_data_clean[cat].describe()"
   ]
  },
  {
   "cell_type": "code",
   "execution_count": 55,
   "metadata": {},
   "outputs": [
    {
     "name": "stdout",
     "output_type": "stream",
     "text": [
      "cat_labeler output...\n",
      "\n",
      "   auction_id  experiment  date  hour  device_make  browser  yes\n",
      "0           0           0     5     4           23        0    1\n",
      "1           1           0     0    15           12        0    0\n",
      "\n",
      "\n",
      "scaler output... \n",
      "\n",
      "   auction_id  experiment      date      hour  device_make  browser  yes\n",
      "0    0.000000         0.0  0.714286  0.173913     0.370968      0.0  1.0\n",
      "1    0.006452         0.0  0.000000  0.652174     0.193548      0.0  0.0\n",
      "\n",
      "\n",
      "target_features output... \n",
      "\n",
      "features size: (156, 6)\n",
      "\n",
      "\n",
      "set_splitter output... \n",
      "\n",
      "X_train shape: (114, 6)\n",
      "y_train shape: (114,)\n",
      "x_test shape: (16, 6)\n",
      "y_test shape: (16,)\n",
      "X_val shape: (26, 6)\n",
      "y_val shape: (26,)\n"
     ]
    }
   ],
   "source": [
    "pipe_1 = Pipeline(\n",
    "    steps=[\n",
    "        (\"label categories\", FunctionTransformer(mlp.cat_labeler, kw_args={\"cat_cols\": cat})),\n",
    "        (\"scale data\", FunctionTransformer(mlp.scaler)),\n",
    "        (\"separate target and features\", FunctionTransformer(mlp.target_feature, kw_args={\"f_r\": [0, 6], \"t\":-1})),\n",
    "        (\"divide dataset\", FunctionTransformer(mlp.set_splitter, kw_args={\"test\": 0.1, \"val\":0.2, \"rand_state\":8})),      \n",
    "        ])\n",
    "sets = pipe_1.fit_transform(ml_data_clean)"
   ]
  },
  {
   "cell_type": "code",
   "execution_count": 58,
   "metadata": {},
   "outputs": [
    {
     "name": "stdout",
     "output_type": "stream",
     "text": [
      "predicted:  [0. 0. 0. 0. 0. 1. 0. 0. 0. 1.]\n",
      "Actual: [1. 0. 0. 0. 1. 1. 1. 0. 1. 0.]\n",
      "0.5625\n"
     ]
    },
    {
     "data": {
      "text/plain": [
       "Text(0, 0.5, 'Feature Importance Score')"
      ]
     },
     "execution_count": 58,
     "metadata": {},
     "output_type": "execute_result"
    },
    {
     "data": {
      "image/png": "[encoded data removed]",
      "text/plain": [
       "<Figure size 432x288 with 1 Axes>"
      ]
     },
     "metadata": {
      "needs_background": "light"
     },
     "output_type": "display_data"
    }
   ],
   "source": [
    "# Define XGBoost Model\n",
    "model = XGBClassifier(\n",
    " learning_rate =0.08,\n",
    " n_estimators=1000,\n",
    " max_depth=5,\n",
    " min_child_weight=1,\n",
    " gamma=0,\n",
    " eval_metric='rmse',\n",
    " subsample=0.8,\n",
    " colsample_bytree=0.8,\n",
    " nthread=4,\n",
    " scale_pos_weight=1,\n",
    " seed=27)\n",
    " \n",
    "xgb_param = model.get_xgb_params()\n",
    "xgtrain = xgb.DMatrix(sets[0], label=sets[1])\n",
    "cvresult = xgb.cv(xgb_param, xgtrain, num_boost_round=model.get_params()['n_estimators'], nfold=5,\n",
    "    metrics='auc', early_stopping_rounds=50)\n",
    "model.set_params(n_estimators=cvresult.shape[0])\n",
    "# We fit our model with our train data\n",
    "model.fit(\n",
    "    sets[0], sets[1],\n",
    "    eval_set=[(sets[4], sets[5])],\n",
    "    verbose=False\n",
    " )\n",
    "# Then predict results from X_test data\n",
    "pred_xgb = model.predict(sets[2])\n",
    "\n",
    "print(\"predicted: \", pred_xgb[0:10])\n",
    "# See First 10 Predictions and They Actual Values\n",
    "# print(\"Predicted:\", pred_xgb[0:10])\n",
    "print(\"Actual:\", sets[3][0:10])\n",
    "\n",
    "accuracy = accuracy_score(pred_xgb, sets[3])\n",
    "print(accuracy)\n",
    "\n",
    "feat_imp = pd.Series(model.feature_importances_).sort_values(ascending=False)\n",
    "feat_imp.plot(kind='bar', title='Feature Importances')\n",
    "plt.ylabel('Feature Importance Score')"
   ]
  },
  {
   "cell_type": "code",
   "execution_count": 33,
   "metadata": {},
   "outputs": [],
   "source": [
    "pipe_2 =Pipeline([('scalar1',StandardScaler()),('lr_classifier',\n",
    "    XGBClassifier(n_estimators=1000, learning_rate=0.001, eval_metric='rmse'))])"
   ]
  },
  {
   "cell_type": "code",
   "execution_count": 34,
   "metadata": {},
   "outputs": [
    {
     "data": {
      "text/plain": [
       "0.5663716814159292"
      ]
     },
     "execution_count": 34,
     "metadata": {},
     "output_type": "execute_result"
    }
   ],
   "source": [
    "pipe_2.fit(sets[0], sets[1])\n",
    "pipe_2.score(sets[4],sets[5])"
   ]
  },
  {
   "cell_type": "code",
   "execution_count": null,
   "metadata": {},
   "outputs": [],
   "source": []
  }
 ],
 "metadata": {
  "interpreter": {
   "hash": "2b997b5b8794c030e25a28be498e8226ee8897df85ede9190db777bdc9cc75be"
  },
  "kernelspec": {
   "display_name": "Python 3.9.7 ('base')",
   "language": "python",
   "name": "python3"
  },
  "language_info": {
   "codemirror_mode": {
    "name": "ipython",
    "version": 3
   },
   "file_extension": ".py",
   "mimetype": "text/x-python",
   "name": "python",
   "nbconvert_exporter": "python",
   "pygments_lexer": "ipython3",
   "version": "3.9.7"
  },
  "orig_nbformat": 4
 },
 "nbformat": 4,
 "nbformat_minor": 2
}
