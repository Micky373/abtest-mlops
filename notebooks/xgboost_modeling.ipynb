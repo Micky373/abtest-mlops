{
 "cells": [
  {
   "cell_type": "code",
   "execution_count": 1,
   "metadata": {},
   "outputs": [],
   "source": [
    "import pandas as pd\n",
    "import numpy as np\n",
    "\n",
    "# To Visualize Data\n",
    "import matplotlib.pyplot as plt\n",
    "import seaborn as sns\n",
    "\n",
    "# To Train our data\n",
    "from sklearn.pipeline import Pipeline\n",
    "from sklearn.preprocessing import FunctionTransformer\n",
    "\n",
    "# To evaluate end result we have\n",
    "from sklearn.metrics import accuracy_score, confusion_matrix\n",
    "from sklearn.model_selection import LeaveOneOut\n",
    "from sklearn.model_selection import cross_val_score\n",
    "\n",
    "import sys\n",
    "import warnings\n",
    "\n",
    "warnings.filterwarnings('ignore')"
   ]
  },
  {
   "cell_type": "code",
   "execution_count": 2,
   "metadata": {},
   "outputs": [],
   "source": [
    "sys.path.insert(1, \"../scripts\")\n",
    "from ml_processors import ML_Processor as MLP\n",
    "from models import ML_Models\n",
    "\n",
    "mlp = MLP()\n",
    "mlm = ML_Models()"
   ]
  },
  {
   "cell_type": "code",
   "execution_count": 3,
   "metadata": {},
   "outputs": [],
   "source": [
    "fb_data =  pd.read_csv('../data/facebook_data.csv')\n",
    "ch_data =  pd.read_csv('../data/chrome_data.csv')\n",
    "cm_data =  pd.read_csv('../data/chrome_mobile_webview_data.csv')\n",
    "pt5_data =  pd.read_csv('../data/platform_5.csv')\n",
    "pt6_data =  pd.read_csv('../data/platform_6.csv')"
   ]
  },
  {
   "cell_type": "code",
   "execution_count": 4,
   "metadata": {},
   "outputs": [],
   "source": [
    "columns_to_be_dropped = ['no','SAID_YES']\n",
    "fb_data_clean = fb_data.drop(columns_to_be_dropped,axis=1)\n",
    "ch_data_clean = ch_data.drop(columns_to_be_dropped,axis=1)  \n",
    "cm_data_clean = cm_data.drop(columns_to_be_dropped,axis=1)  "
   ]
  },
  {
   "cell_type": "code",
   "execution_count": 5,
   "metadata": {},
   "outputs": [],
   "source": [
    "\n",
    "# separating categorical and numerical variables\n",
    "\n",
    "cat2, num2 = mlp.sep_cat_num(fb_data_clean)\n",
    "cat3, num3 = mlp.sep_cat_num(ch_data_clean)\n",
    "cat4, num4 = mlp.sep_cat_num(cm_data_clean)\n",
    "cat5, num5 = mlp.sep_cat_num(pt5_data)\n",
    "cat6, num6 = mlp.sep_cat_num(pt6_data)"
   ]
  },
  {
   "cell_type": "code",
   "execution_count": 6,
   "metadata": {},
   "outputs": [
    {
     "data": {
      "text/html": [
       "<div>\n",
       "<style scoped>\n",
       "    .dataframe tbody tr th:only-of-type {\n",
       "        vertical-align: middle;\n",
       "    }\n",
       "\n",
       "    .dataframe tbody tr th {\n",
       "        vertical-align: top;\n",
       "    }\n",
       "\n",
       "    .dataframe thead th {\n",
       "        text-align: right;\n",
       "    }\n",
       "</style>\n",
       "<table border=\"1\" class=\"dataframe\">\n",
       "  <thead>\n",
       "    <tr style=\"text-align: right;\">\n",
       "      <th></th>\n",
       "      <th>auction_id</th>\n",
       "      <th>experiment</th>\n",
       "      <th>date</th>\n",
       "      <th>device_make</th>\n",
       "      <th>browser</th>\n",
       "    </tr>\n",
       "  </thead>\n",
       "  <tbody>\n",
       "    <tr>\n",
       "      <th>count</th>\n",
       "      <td>156</td>\n",
       "      <td>156</td>\n",
       "      <td>156</td>\n",
       "      <td>156</td>\n",
       "      <td>156</td>\n",
       "    </tr>\n",
       "    <tr>\n",
       "      <th>unique</th>\n",
       "      <td>156</td>\n",
       "      <td>2</td>\n",
       "      <td>8</td>\n",
       "      <td>63</td>\n",
       "      <td>1</td>\n",
       "    </tr>\n",
       "    <tr>\n",
       "      <th>top</th>\n",
       "      <td>00b6fadb-10bd-49e3-a778-290da82f7a8d</td>\n",
       "      <td>control</td>\n",
       "      <td>2020-07-03</td>\n",
       "      <td>Samsung SM-G960F</td>\n",
       "      <td>Facebook</td>\n",
       "    </tr>\n",
       "    <tr>\n",
       "      <th>freq</th>\n",
       "      <td>1</td>\n",
       "      <td>112</td>\n",
       "      <td>47</td>\n",
       "      <td>16</td>\n",
       "      <td>156</td>\n",
       "    </tr>\n",
       "  </tbody>\n",
       "</table>\n",
       "</div>"
      ],
      "text/plain": [
       "                                  auction_id experiment        date  \\\n",
       "count                                    156        156         156   \n",
       "unique                                   156          2           8   \n",
       "top     00b6fadb-10bd-49e3-a778-290da82f7a8d    control  2020-07-03   \n",
       "freq                                       1        112          47   \n",
       "\n",
       "             device_make   browser  \n",
       "count                156       156  \n",
       "unique                63         1  \n",
       "top     Samsung SM-G960F  Facebook  \n",
       "freq                  16       156  "
      ]
     },
     "execution_count": 6,
     "metadata": {},
     "output_type": "execute_result"
    }
   ],
   "source": [
    "fb_data_clean[cat2].describe()"
   ]
  },
  {
   "cell_type": "code",
   "execution_count": 8,
   "metadata": {},
   "outputs": [
    {
     "name": "stdout",
     "output_type": "stream",
     "text": [
      "catagories successfully labeled\n",
      "Data successfully scaled\n",
      "target and features separated\n",
      "data successfully splitted\n"
     ]
    }
   ],
   "source": [
    "pipe_1 = Pipeline(\n",
    "    steps=[\n",
    "        (\"label categories\", FunctionTransformer(mlp.cat_labeler, kw_args={\"cat_cols\": cat2})),\n",
    "        (\"scale data\", FunctionTransformer(mlp.scaler)),\n",
    "        (\"separate target and features\", FunctionTransformer(mlp.target_feature, kw_args={\"f_r\": [0, 5], \"t\":-1})),\n",
    "        (\"divide dataset\", FunctionTransformer(mlp.set_splitter, kw_args={\"test\": 0.1, \"val\":0.2, \"rand_state\":8})),      \n",
    "        ])\n",
    "sets = pipe_1.fit_transform(fb_data_clean)\n"
   ]
  },
  {
   "cell_type": "code",
   "execution_count": 9,
   "metadata": {},
   "outputs": [
    {
     "name": "stdout",
     "output_type": "stream",
     "text": [
      "catagories successfully labeled\n",
      "Data successfully scaled\n",
      "target and features separated\n",
      "data successfully splitted\n"
     ]
    }
   ],
   "source": [
    "sets2 = pipe_1.fit_transform(ch_data_clean)"
   ]
  },
  {
   "cell_type": "code",
   "execution_count": 10,
   "metadata": {},
   "outputs": [
    {
     "name": "stdout",
     "output_type": "stream",
     "text": [
      "catagories successfully labeled\n",
      "Data successfully scaled\n",
      "target and features separated\n",
      "data successfully splitted\n"
     ]
    }
   ],
   "source": [
    "\n",
    "sets3 = pipe_1.fit_transform(cm_data_clean)"
   ]
  },
  {
   "cell_type": "code",
   "execution_count": 11,
   "metadata": {},
   "outputs": [
    {
     "name": "stdout",
     "output_type": "stream",
     "text": [
      "catagories successfully labeled\n",
      "Data successfully scaled\n",
      "target and features separated\n",
      "data successfully splitted\n"
     ]
    }
   ],
   "source": [
    "\n",
    "sets4 = pipe_1.fit_transform(pt5_data)"
   ]
  },
  {
   "cell_type": "code",
   "execution_count": 12,
   "metadata": {},
   "outputs": [
    {
     "name": "stdout",
     "output_type": "stream",
     "text": [
      "catagories successfully labeled\n",
      "Data successfully scaled\n",
      "target and features separated\n",
      "data successfully splitted\n"
     ]
    }
   ],
   "source": [
    "\n",
    "sets5 = pipe_1.fit_transform(pt6_data)"
   ]
  },
  {
   "cell_type": "code",
   "execution_count": 14,
   "metadata": {},
   "outputs": [],
   "source": [
    "# generate model\n",
    "\n",
    "model = mlm.xgb_model(sets[0], sets[1], sets[2], sets[3])\n",
    "model2 = mlm.xgb_model(sets2[0], sets2[1], sets2[2], sets2[3])\n",
    "model3 = mlm.xgb_model(sets3[0], sets3[1], sets3[2], sets3[3])\n",
    "\n"
   ]
  },
  {
   "cell_type": "code",
   "execution_count": 15,
   "metadata": {},
   "outputs": [],
   "source": [
    "\n",
    "# Then predict results from X_test data\n",
    "\n",
    "\n",
    "def evaluate_model(model, df, x_test, y_test):\n",
    "    pred_xgb = model.predict(x_test)\n",
    "    accuracy = accuracy_score(pred_xgb, y_test)\n",
    "    print(\"The model accuracy is: \", accuracy)\n",
    "    print(\"the loss function is: \", model.objective)\n",
    "\n",
    "    sorted_idx = model.feature_importances_.argsort()\n",
    "    columns = np.array(df.columns.to_list()[:5])\n",
    "    plt.barh(columns[sorted_idx], model.feature_importances_[sorted_idx])\n",
    "    plt.xlabel(\"Xgboost Feature Importance\")"
   ]
  },
  {
   "cell_type": "code",
   "execution_count": 16,
   "metadata": {},
   "outputs": [
    {
     "name": "stdout",
     "output_type": "stream",
     "text": [
      "The model accuracy is:  0.625\n",
      "the loss function is:  binary:logistic\n"
     ]
    },
    {
     "data": {
      "image/png": "[encoded data removed]",
      "text/plain": [
       "<Figure size 432x288 with 1 Axes>"
      ]
     },
     "metadata": {
      "needs_background": "light"
     },
     "output_type": "display_data"
    }
   ],
   "source": [
    "evaluate_model(model, fb_data_clean, sets[2], sets[3])"
   ]
  },
  {
   "cell_type": "code",
   "execution_count": 17,
   "metadata": {},
   "outputs": [
    {
     "name": "stdout",
     "output_type": "stream",
     "text": [
      "The model accuracy is:  0.4714285714285714\n",
      "the loss function is:  binary:logistic\n"
     ]
    },
    {
     "data": {
      "image/png": "[encoded data removed]",
      "text/plain": [
       "<Figure size 432x288 with 1 Axes>"
      ]
     },
     "metadata": {
      "needs_background": "light"
     },
     "output_type": "display_data"
    }
   ],
   "source": [
    "evaluate_model(model2, ch_data_clean, sets2[2], sets2[3])"
   ]
  },
  {
   "cell_type": "code",
   "execution_count": 18,
   "metadata": {},
   "outputs": [
    {
     "name": "stdout",
     "output_type": "stream",
     "text": [
      "The model accuracy is:  0.5652173913043478\n",
      "the loss function is:  binary:logistic\n"
     ]
    },
    {
     "data": {
      "image/png": "[encoded data removed]",
      "text/plain": [
       "<Figure size 432x288 with 1 Axes>"
      ]
     },
     "metadata": {
      "needs_background": "light"
     },
     "output_type": "display_data"
    }
   ],
   "source": [
    "evaluate_model(model3, cm_data_clean, sets3[2], sets3[3])"
   ]
  },
  {
   "cell_type": "code",
   "execution_count": null,
   "metadata": {},
   "outputs": [],
   "source": [
    "def correlation_heatmap(train):\n",
    "    correlations = train.corr()\n",
    "\n",
    "    fig, ax = plt.subplots(figsize=(10,10))\n",
    "    sns.heatmap(correlations, vmax=1.0, center=0, fmt='.2f', cmap=\"YlGnBu\",\n",
    "                square=True, linewidths=.5, annot=True, cbar_kws={\"shrink\": .70}\n",
    "                )\n",
    "    plt.show()\n",
    "    \n",
    "correlation_heatmap(pd.DataFrame(sets[0]))"
   ]
  }
 ],
 "metadata": {
  "interpreter": {
   "hash": "2b997b5b8794c030e25a28be498e8226ee8897df85ede9190db777bdc9cc75be"
  },
  "kernelspec": {
   "display_name": "Python 3.9.7 ('base')",
   "language": "python",
   "name": "python3"
  },
  "language_info": {
   "codemirror_mode": {
    "name": "ipython",
    "version": 3
   },
   "file_extension": ".py",
   "mimetype": "text/x-python",
   "name": "python",
   "nbconvert_exporter": "python",
   "pygments_lexer": "ipython3",
   "version": "3.9.7"
  },
  "orig_nbformat": 4
 },
 "nbformat": 4,
 "nbformat_minor": 2
}
