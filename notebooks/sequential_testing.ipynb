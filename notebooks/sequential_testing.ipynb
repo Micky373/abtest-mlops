{
  "cells": [
    {
      "cell_type": "markdown",
      "metadata": {
        "id": "iftqV_euXReL"
      },
      "source": [
        "### Write a function to fech data."
      ]
    },
    {
      "cell_type": "code",
      "execution_count": 10,
      "metadata": {
        "id": "A-uNOBuFbRdv"
      },
      "outputs": [],
      "source": [
        "# Importing libraries\n",
        "\n",
        "import os\n",
        "import sys\n",
        "import pandas as pd\n",
        "import numpy as np\n",
        "import warnings \n",
        "import scipy.stats as scs\n",
        "import matplotlib.pyplot as plt\n",
        "from sklearn.pipeline import Pipeline\n",
        "from sklearn.preprocessing import FunctionTransformer"
      ]
    },
    {
      "cell_type": "code",
      "execution_count": 3,
      "metadata": {
        "colab": {
          "base_uri": "https://localhost:8080/",
          "height": 214
        },
        "id": "z3saJEgAbThr",
        "outputId": "8062db23-414d-4430-853c-607e23ef1248"
      },
      "outputs": [],
      "source": [
        "# Suppressing warning messages\n",
        "\n",
        "warnings.filterwarnings('ignore')"
      ]
    },
    {
      "cell_type": "code",
      "execution_count": 4,
      "metadata": {
        "id": "HdBaAyNybYwW"
      },
      "outputs": [],
      "source": [
        "# setting path to folders\n",
        "\n",
        "parent_dir = os.path.abspath(os.path.join(os.getcwd(), os.pardir))\n",
        "scripts_dir = parent_dir+\"/scripts\"\n",
        "data_dir = parent_dir+\"/data\"\n",
        "\n",
        "sys.path.insert(1, scripts_dir)"
      ]
    },
    {
      "cell_type": "code",
      "execution_count": 12,
      "metadata": {},
      "outputs": [],
      "source": [
        "# loading script\n",
        "\n",
        "from data_summarizing_functions import DataSummarizer\n",
        "from processing_functions import ConditionalSPRT\n",
        "from dashboard_viz import VizManager\n",
        "from processing_functions import DataProcessor\n",
        "\n",
        "sumar = DataSummarizer()\n",
        "viz = VizManager()\n",
        "DP = DataProcessor()"
      ]
    },
    {
      "cell_type": "code",
      "execution_count": 6,
      "metadata": {
        "colab": {
          "base_uri": "https://localhost:8080/",
          "height": 204
        },
        "id": "-FE3ou80b97z",
        "outputId": "ad3022ad-99b7-487d-98f4-61649d51ebbd"
      },
      "outputs": [
        {
          "data": {
            "text/html": [
              "<div>\n",
              "<style scoped>\n",
              "    .dataframe tbody tr th:only-of-type {\n",
              "        vertical-align: middle;\n",
              "    }\n",
              "\n",
              "    .dataframe tbody tr th {\n",
              "        vertical-align: top;\n",
              "    }\n",
              "\n",
              "    .dataframe thead th {\n",
              "        text-align: right;\n",
              "    }\n",
              "</style>\n",
              "<table border=\"1\" class=\"dataframe\">\n",
              "  <thead>\n",
              "    <tr style=\"text-align: right;\">\n",
              "      <th></th>\n",
              "      <th>auction_id</th>\n",
              "      <th>experiment</th>\n",
              "      <th>date</th>\n",
              "      <th>hour</th>\n",
              "      <th>device_make</th>\n",
              "      <th>platform_os</th>\n",
              "      <th>browser</th>\n",
              "      <th>yes</th>\n",
              "      <th>no</th>\n",
              "    </tr>\n",
              "  </thead>\n",
              "  <tbody>\n",
              "    <tr>\n",
              "      <th>0</th>\n",
              "      <td>0016d14a-ae18-4a02-a204-6ba53b52f2ed</td>\n",
              "      <td>exposed</td>\n",
              "      <td>2020-07-05</td>\n",
              "      <td>2</td>\n",
              "      <td>E5823</td>\n",
              "      <td>6</td>\n",
              "      <td>Chrome Mobile WebView</td>\n",
              "      <td>0</td>\n",
              "      <td>1</td>\n",
              "    </tr>\n",
              "    <tr>\n",
              "      <th>1</th>\n",
              "      <td>008aafdf-deef-4482-8fec-d98e3da054da</td>\n",
              "      <td>exposed</td>\n",
              "      <td>2020-07-04</td>\n",
              "      <td>16</td>\n",
              "      <td>Generic Smartphone</td>\n",
              "      <td>6</td>\n",
              "      <td>Chrome Mobile</td>\n",
              "      <td>1</td>\n",
              "      <td>0</td>\n",
              "    </tr>\n",
              "    <tr>\n",
              "      <th>2</th>\n",
              "      <td>00a1384a-5118-4d1b-925b-6cdada50318d</td>\n",
              "      <td>exposed</td>\n",
              "      <td>2020-07-06</td>\n",
              "      <td>8</td>\n",
              "      <td>Generic Smartphone</td>\n",
              "      <td>6</td>\n",
              "      <td>Chrome Mobile</td>\n",
              "      <td>0</td>\n",
              "      <td>1</td>\n",
              "    </tr>\n",
              "    <tr>\n",
              "      <th>3</th>\n",
              "      <td>00b6fadb-10bd-49e3-a778-290da82f7a8d</td>\n",
              "      <td>control</td>\n",
              "      <td>2020-07-08</td>\n",
              "      <td>4</td>\n",
              "      <td>Samsung SM-A202F</td>\n",
              "      <td>6</td>\n",
              "      <td>Facebook</td>\n",
              "      <td>1</td>\n",
              "      <td>0</td>\n",
              "    </tr>\n",
              "    <tr>\n",
              "      <th>4</th>\n",
              "      <td>00ebf4a8-060f-4b99-93ac-c62724399483</td>\n",
              "      <td>control</td>\n",
              "      <td>2020-07-03</td>\n",
              "      <td>15</td>\n",
              "      <td>Generic Smartphone</td>\n",
              "      <td>6</td>\n",
              "      <td>Chrome Mobile</td>\n",
              "      <td>0</td>\n",
              "      <td>1</td>\n",
              "    </tr>\n",
              "  </tbody>\n",
              "</table>\n",
              "</div>"
            ],
            "text/plain": [
              "                             auction_id experiment        date  hour  \\\n",
              "0  0016d14a-ae18-4a02-a204-6ba53b52f2ed    exposed  2020-07-05     2   \n",
              "1  008aafdf-deef-4482-8fec-d98e3da054da    exposed  2020-07-04    16   \n",
              "2  00a1384a-5118-4d1b-925b-6cdada50318d    exposed  2020-07-06     8   \n",
              "3  00b6fadb-10bd-49e3-a778-290da82f7a8d    control  2020-07-08     4   \n",
              "4  00ebf4a8-060f-4b99-93ac-c62724399483    control  2020-07-03    15   \n",
              "\n",
              "          device_make  platform_os                browser  yes  no  \n",
              "0               E5823            6  Chrome Mobile WebView    0   1  \n",
              "1  Generic Smartphone            6          Chrome Mobile    1   0  \n",
              "2  Generic Smartphone            6          Chrome Mobile    0   1  \n",
              "3    Samsung SM-A202F            6               Facebook    1   0  \n",
              "4  Generic Smartphone            6          Chrome Mobile    0   1  "
            ]
          },
          "execution_count": 6,
          "metadata": {},
          "output_type": "execute_result"
        }
      ],
      "source": [
        "# loading data\n",
        "\n",
        "clean_df = pd.read_csv(data_dir+\"/SmartAd_clean_data.csv\")\n",
        "clean_df.head()"
      ]
    },
    {
      "cell_type": "code",
      "execution_count": 13,
      "metadata": {
        "id": "q4In81HzZyiQ"
      },
      "outputs": [
        {
          "name": "stdout",
          "output_type": "stream",
          "text": [
            "Missing values:  0\n",
            "Usable rows:  1243\n",
            "dataframe splitted\n",
            "dataframe aggregated on datetime\n",
            "bernaulli series generated\n",
            "control df received 586\n",
            "exposed df received 657\n",
            "or, alpha, beta:  1.01 0.5 0.1\n",
            "stats generated\n"
          ]
        }
      ],
      "source": [
        "# Giving parameters and finding out the result of the sequential testing\n",
        "\n",
        "alpha = 0.5\n",
        "beta = 0.10\n",
        "odd_ratio = 1.01\n",
        "c_sprt = ConditionalSPRT()\n",
        "pipe = Pipeline(\n",
        "    steps=[\n",
        "        (\"use_custome_cleaner\", FunctionTransformer(DP.clean_missing)),\n",
        "        (\"transform data\", FunctionTransformer(DP.transform_data)),\n",
        "        (\"ab testing\", FunctionTransformer(c_sprt.conditionalSPRT, \n",
        "            kw_args={\"t1\": odd_ratio, \"alpha\": alpha, \"beta\": beta})),      \n",
        "        ])\n",
        "res = pipe.fit_transform(clean_df)"
      ]
    },
    {
      "cell_type": "code",
      "execution_count": 14,
      "metadata": {
        "id": "Dj_QuUA_Z-gV"
      },
      "outputs": [
        {
          "name": "stdout",
          "output_type": "stream",
          "text": [
            "{'Test': 'Sequential AB testing', 'outcome': 'Unable to conclude.Needs more sample.', 'numberOfObservation': 586}\n"
          ]
        }
      ],
      "source": [
        "# Printing the output of the test\n",
        "\n",
        "print(c_sprt.get_output(res))"
      ]
    },
    {
      "cell_type": "code",
      "execution_count": 16,
      "metadata": {
        "id": "GZRFd2kTalh3"
      },
      "outputs": [
        {
          "data": {
            "image/png": "[encoded data removed]",
            "text/plain": [
              "<Figure size 864x504 with 1 Axes>"
            ]
          },
          "metadata": {
            "needs_background": "light"
          },
          "output_type": "display_data"
        }
      ],
      "source": [
        "# Ploting the graph of the sequential testing\n",
        "\n",
        "c_sprt.plot_output(res)"
      ]
    }
  ],
  "metadata": {
    "colab": {
      "collapsed_sections": [],
      "name": "sequential_testing.ipynb",
      "provenance": []
    },
    "interpreter": {
      "hash": "39075acd572946124b932be27bf9b0f60cbd7d0b32c63cc1adbcac888453a637"
    },
    "kernelspec": {
      "display_name": "Python 3.9.7 ('base')",
      "language": "python",
      "name": "python3"
    },
    "language_info": {
      "codemirror_mode": {
        "name": "ipython",
        "version": 3
      },
      "file_extension": ".py",
      "mimetype": "text/x-python",
      "name": "python",
      "nbconvert_exporter": "python",
      "pygments_lexer": "ipython3",
      "version": "3.9.7"
    }
  },
  "nbformat": 4,
  "nbformat_minor": 0
}
