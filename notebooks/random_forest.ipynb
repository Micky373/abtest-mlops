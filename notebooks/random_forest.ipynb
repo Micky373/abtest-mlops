{
 "cells": [
  {
   "cell_type": "code",
   "execution_count": 706,
   "metadata": {},
   "outputs": [],
   "source": [
    "import pandas as pd\n",
    "import numpy as np\n",
    "from sklearn.model_selection import train_test_split\n",
    "from sklearn.preprocessing import StandardScaler, LabelEncoder\n",
    "from sklearn.pipeline import Pipeline\n",
    "# from sklearn.linear_model import RandomForestClassifier\n",
    "from sklearn.model_selection import KFold\n",
    "from sklearn.model_selection import cross_val_score\n",
    "from sklearn.metrics import mean_squared_error,mean_absolute_error, r2_score\n",
    "from sklearn.preprocessing import FunctionTransformer\n",
    "import sys"
   ]
  },
  {
   "cell_type": "code",
   "execution_count": 707,
   "metadata": {},
   "outputs": [],
   "source": [
    "sys.path.insert(1, \"../scripts\")\n",
    "from ml_processors import ML_Processor as MLP\n",
    "\n",
    "mlp = MLP()"
   ]
  },
  {
   "cell_type": "markdown",
   "metadata": {},
   "source": [
    "Loading data"
   ]
  },
  {
   "cell_type": "code",
   "execution_count": 708,
   "metadata": {},
   "outputs": [
    {
     "data": {
      "text/html": [
       "<div>\n",
       "<style scoped>\n",
       "    .dataframe tbody tr th:only-of-type {\n",
       "        vertical-align: middle;\n",
       "    }\n",
       "\n",
       "    .dataframe tbody tr th {\n",
       "        vertical-align: top;\n",
       "    }\n",
       "\n",
       "    .dataframe thead th {\n",
       "        text-align: right;\n",
       "    }\n",
       "</style>\n",
       "<table border=\"1\" class=\"dataframe\">\n",
       "  <thead>\n",
       "    <tr style=\"text-align: right;\">\n",
       "      <th></th>\n",
       "      <th>auction_id</th>\n",
       "      <th>experiment</th>\n",
       "      <th>date</th>\n",
       "      <th>hour</th>\n",
       "      <th>device_make</th>\n",
       "      <th>browser</th>\n",
       "      <th>yes</th>\n",
       "      <th>no</th>\n",
       "      <th>SAID_YES</th>\n",
       "    </tr>\n",
       "  </thead>\n",
       "  <tbody>\n",
       "    <tr>\n",
       "      <th>0</th>\n",
       "      <td>008aafdf-deef-4482-8fec-d98e3da054da</td>\n",
       "      <td>exposed</td>\n",
       "      <td>2020-07-04</td>\n",
       "      <td>16</td>\n",
       "      <td>Generic Smartphone</td>\n",
       "      <td>Chrome Mobile</td>\n",
       "      <td>1</td>\n",
       "      <td>0</td>\n",
       "      <td>1</td>\n",
       "    </tr>\n",
       "    <tr>\n",
       "      <th>1</th>\n",
       "      <td>00a1384a-5118-4d1b-925b-6cdada50318d</td>\n",
       "      <td>exposed</td>\n",
       "      <td>2020-07-06</td>\n",
       "      <td>8</td>\n",
       "      <td>Generic Smartphone</td>\n",
       "      <td>Chrome Mobile</td>\n",
       "      <td>0</td>\n",
       "      <td>1</td>\n",
       "      <td>0</td>\n",
       "    </tr>\n",
       "  </tbody>\n",
       "</table>\n",
       "</div>"
      ],
      "text/plain": [
       "                             auction_id experiment        date  hour  \\\n",
       "0  008aafdf-deef-4482-8fec-d98e3da054da    exposed  2020-07-04    16   \n",
       "1  00a1384a-5118-4d1b-925b-6cdada50318d    exposed  2020-07-06     8   \n",
       "\n",
       "          device_make        browser  yes  no  SAID_YES  \n",
       "0  Generic Smartphone  Chrome Mobile    1   0         1  \n",
       "1  Generic Smartphone  Chrome Mobile    0   1         0  "
      ]
     },
     "execution_count": 708,
     "metadata": {},
     "output_type": "execute_result"
    }
   ],
   "source": [
    "chrome_mobile_data = pd.read_csv('../data/chrome_data.csv')\n",
    "chrome_webview_data = pd.read_csv('../data/chrome_mobile_webView_data.csv')\n",
    "facebook_data = pd.read_csv('../data/facebook_data.csv')\n",
    "platform5_data = pd.read_csv('../data/platform_5.csv')\n",
    "platform6_data = pd.read_csv('../data/platform_6.csv')\n",
    "chrome_mobile_data.head(2)"
   ]
  },
  {
   "cell_type": "markdown",
   "metadata": {},
   "source": [
    "### Dropping unwanted columns"
   ]
  },
  {
   "cell_type": "code",
   "execution_count": 709,
   "metadata": {},
   "outputs": [
    {
     "data": {
      "text/html": [
       "<div>\n",
       "<style scoped>\n",
       "    .dataframe tbody tr th:only-of-type {\n",
       "        vertical-align: middle;\n",
       "    }\n",
       "\n",
       "    .dataframe tbody tr th {\n",
       "        vertical-align: top;\n",
       "    }\n",
       "\n",
       "    .dataframe thead th {\n",
       "        text-align: right;\n",
       "    }\n",
       "</style>\n",
       "<table border=\"1\" class=\"dataframe\">\n",
       "  <thead>\n",
       "    <tr style=\"text-align: right;\">\n",
       "      <th></th>\n",
       "      <th>auction_id</th>\n",
       "      <th>experiment</th>\n",
       "      <th>date</th>\n",
       "      <th>hour</th>\n",
       "      <th>device_make</th>\n",
       "      <th>browser</th>\n",
       "      <th>yes</th>\n",
       "    </tr>\n",
       "  </thead>\n",
       "  <tbody>\n",
       "    <tr>\n",
       "      <th>0</th>\n",
       "      <td>008aafdf-deef-4482-8fec-d98e3da054da</td>\n",
       "      <td>exposed</td>\n",
       "      <td>2020-07-04</td>\n",
       "      <td>16</td>\n",
       "      <td>Generic Smartphone</td>\n",
       "      <td>Chrome Mobile</td>\n",
       "      <td>1</td>\n",
       "    </tr>\n",
       "    <tr>\n",
       "      <th>1</th>\n",
       "      <td>00a1384a-5118-4d1b-925b-6cdada50318d</td>\n",
       "      <td>exposed</td>\n",
       "      <td>2020-07-06</td>\n",
       "      <td>8</td>\n",
       "      <td>Generic Smartphone</td>\n",
       "      <td>Chrome Mobile</td>\n",
       "      <td>0</td>\n",
       "    </tr>\n",
       "  </tbody>\n",
       "</table>\n",
       "</div>"
      ],
      "text/plain": [
       "                             auction_id experiment        date  hour  \\\n",
       "0  008aafdf-deef-4482-8fec-d98e3da054da    exposed  2020-07-04    16   \n",
       "1  00a1384a-5118-4d1b-925b-6cdada50318d    exposed  2020-07-06     8   \n",
       "\n",
       "          device_make        browser  yes  \n",
       "0  Generic Smartphone  Chrome Mobile    1  \n",
       "1  Generic Smartphone  Chrome Mobile    0  "
      ]
     },
     "execution_count": 709,
     "metadata": {},
     "output_type": "execute_result"
    }
   ],
   "source": [
    "#for mobile view\n",
    "columns_to_be_dropped = ['no','SAID_YES']\n",
    "chrome_mobile_data_clean = chrome_mobile_data.drop(columns_to_be_dropped,axis=1)\n",
    "chrome_mobile_data_clean.head(2)"
   ]
  },
  {
   "cell_type": "code",
   "execution_count": 710,
   "metadata": {},
   "outputs": [
    {
     "data": {
      "text/html": [
       "<div>\n",
       "<style scoped>\n",
       "    .dataframe tbody tr th:only-of-type {\n",
       "        vertical-align: middle;\n",
       "    }\n",
       "\n",
       "    .dataframe tbody tr th {\n",
       "        vertical-align: top;\n",
       "    }\n",
       "\n",
       "    .dataframe thead th {\n",
       "        text-align: right;\n",
       "    }\n",
       "</style>\n",
       "<table border=\"1\" class=\"dataframe\">\n",
       "  <thead>\n",
       "    <tr style=\"text-align: right;\">\n",
       "      <th></th>\n",
       "      <th>auction_id</th>\n",
       "      <th>experiment</th>\n",
       "      <th>date</th>\n",
       "      <th>hour</th>\n",
       "      <th>device_make</th>\n",
       "      <th>browser</th>\n",
       "      <th>yes</th>\n",
       "      <th>no</th>\n",
       "      <th>SAID_YES</th>\n",
       "    </tr>\n",
       "  </thead>\n",
       "  <tbody>\n",
       "    <tr>\n",
       "      <th>0</th>\n",
       "      <td>0016d14a-ae18-4a02-a204-6ba53b52f2ed</td>\n",
       "      <td>exposed</td>\n",
       "      <td>2020-07-05</td>\n",
       "      <td>2</td>\n",
       "      <td>E5823</td>\n",
       "      <td>Chrome Mobile WebView</td>\n",
       "      <td>0</td>\n",
       "      <td>1</td>\n",
       "      <td>0</td>\n",
       "    </tr>\n",
       "    <tr>\n",
       "      <th>1</th>\n",
       "      <td>01905bae-fc59-475e-b2b4-09b78163c961</td>\n",
       "      <td>exposed</td>\n",
       "      <td>2020-07-05</td>\n",
       "      <td>6</td>\n",
       "      <td>I3312</td>\n",
       "      <td>Chrome Mobile WebView</td>\n",
       "      <td>0</td>\n",
       "      <td>1</td>\n",
       "      <td>0</td>\n",
       "    </tr>\n",
       "  </tbody>\n",
       "</table>\n",
       "</div>"
      ],
      "text/plain": [
       "                             auction_id experiment        date  hour  \\\n",
       "0  0016d14a-ae18-4a02-a204-6ba53b52f2ed    exposed  2020-07-05     2   \n",
       "1  01905bae-fc59-475e-b2b4-09b78163c961    exposed  2020-07-05     6   \n",
       "\n",
       "  device_make                browser  yes  no  SAID_YES  \n",
       "0       E5823  Chrome Mobile WebView    0   1         0  \n",
       "1       I3312  Chrome Mobile WebView    0   1         0  "
      ]
     },
     "execution_count": 710,
     "metadata": {},
     "output_type": "execute_result"
    }
   ],
   "source": [
    "chrome_webview_data.head(2)"
   ]
  },
  {
   "cell_type": "code",
   "execution_count": 711,
   "metadata": {},
   "outputs": [
    {
     "data": {
      "text/html": [
       "<div>\n",
       "<style scoped>\n",
       "    .dataframe tbody tr th:only-of-type {\n",
       "        vertical-align: middle;\n",
       "    }\n",
       "\n",
       "    .dataframe tbody tr th {\n",
       "        vertical-align: top;\n",
       "    }\n",
       "\n",
       "    .dataframe thead th {\n",
       "        text-align: right;\n",
       "    }\n",
       "</style>\n",
       "<table border=\"1\" class=\"dataframe\">\n",
       "  <thead>\n",
       "    <tr style=\"text-align: right;\">\n",
       "      <th></th>\n",
       "      <th>auction_id</th>\n",
       "      <th>experiment</th>\n",
       "      <th>date</th>\n",
       "      <th>hour</th>\n",
       "      <th>device_make</th>\n",
       "      <th>browser</th>\n",
       "      <th>yes</th>\n",
       "    </tr>\n",
       "  </thead>\n",
       "  <tbody>\n",
       "    <tr>\n",
       "      <th>0</th>\n",
       "      <td>0016d14a-ae18-4a02-a204-6ba53b52f2ed</td>\n",
       "      <td>exposed</td>\n",
       "      <td>2020-07-05</td>\n",
       "      <td>2</td>\n",
       "      <td>E5823</td>\n",
       "      <td>Chrome Mobile WebView</td>\n",
       "      <td>0</td>\n",
       "    </tr>\n",
       "    <tr>\n",
       "      <th>1</th>\n",
       "      <td>01905bae-fc59-475e-b2b4-09b78163c961</td>\n",
       "      <td>exposed</td>\n",
       "      <td>2020-07-05</td>\n",
       "      <td>6</td>\n",
       "      <td>I3312</td>\n",
       "      <td>Chrome Mobile WebView</td>\n",
       "      <td>0</td>\n",
       "    </tr>\n",
       "  </tbody>\n",
       "</table>\n",
       "</div>"
      ],
      "text/plain": [
       "                             auction_id experiment        date  hour  \\\n",
       "0  0016d14a-ae18-4a02-a204-6ba53b52f2ed    exposed  2020-07-05     2   \n",
       "1  01905bae-fc59-475e-b2b4-09b78163c961    exposed  2020-07-05     6   \n",
       "\n",
       "  device_make                browser  yes  \n",
       "0       E5823  Chrome Mobile WebView    0  \n",
       "1       I3312  Chrome Mobile WebView    0  "
      ]
     },
     "execution_count": 711,
     "metadata": {},
     "output_type": "execute_result"
    }
   ],
   "source": [
    "#for chrome mobile webview\n",
    "columns_to_be_dropped = ['no','SAID_YES']\n",
    "chrome_webview_data_clean = chrome_webview_data.drop(columns_to_be_dropped,axis=1)\n",
    "chrome_webview_data_clean.head(2)"
   ]
  },
  {
   "cell_type": "code",
   "execution_count": 712,
   "metadata": {},
   "outputs": [
    {
     "data": {
      "text/html": [
       "<div>\n",
       "<style scoped>\n",
       "    .dataframe tbody tr th:only-of-type {\n",
       "        vertical-align: middle;\n",
       "    }\n",
       "\n",
       "    .dataframe tbody tr th {\n",
       "        vertical-align: top;\n",
       "    }\n",
       "\n",
       "    .dataframe thead th {\n",
       "        text-align: right;\n",
       "    }\n",
       "</style>\n",
       "<table border=\"1\" class=\"dataframe\">\n",
       "  <thead>\n",
       "    <tr style=\"text-align: right;\">\n",
       "      <th></th>\n",
       "      <th>auction_id</th>\n",
       "      <th>experiment</th>\n",
       "      <th>date</th>\n",
       "      <th>hour</th>\n",
       "      <th>device_make</th>\n",
       "      <th>browser</th>\n",
       "      <th>yes</th>\n",
       "      <th>no</th>\n",
       "      <th>SAID_YES</th>\n",
       "    </tr>\n",
       "  </thead>\n",
       "  <tbody>\n",
       "    <tr>\n",
       "      <th>0</th>\n",
       "      <td>00b6fadb-10bd-49e3-a778-290da82f7a8d</td>\n",
       "      <td>control</td>\n",
       "      <td>2020-07-08</td>\n",
       "      <td>4</td>\n",
       "      <td>Samsung SM-A202F</td>\n",
       "      <td>Facebook</td>\n",
       "      <td>1</td>\n",
       "      <td>0</td>\n",
       "      <td>1</td>\n",
       "    </tr>\n",
       "    <tr>\n",
       "      <th>1</th>\n",
       "      <td>023458f7-122d-475f-9525-1b9a3cc7a033</td>\n",
       "      <td>control</td>\n",
       "      <td>2020-07-03</td>\n",
       "      <td>15</td>\n",
       "      <td>MRD-LX1</td>\n",
       "      <td>Facebook</td>\n",
       "      <td>0</td>\n",
       "      <td>1</td>\n",
       "      <td>0</td>\n",
       "    </tr>\n",
       "  </tbody>\n",
       "</table>\n",
       "</div>"
      ],
      "text/plain": [
       "                             auction_id experiment        date  hour  \\\n",
       "0  00b6fadb-10bd-49e3-a778-290da82f7a8d    control  2020-07-08     4   \n",
       "1  023458f7-122d-475f-9525-1b9a3cc7a033    control  2020-07-03    15   \n",
       "\n",
       "        device_make   browser  yes  no  SAID_YES  \n",
       "0  Samsung SM-A202F  Facebook    1   0         1  \n",
       "1           MRD-LX1  Facebook    0   1         0  "
      ]
     },
     "execution_count": 712,
     "metadata": {},
     "output_type": "execute_result"
    }
   ],
   "source": [
    "facebook_data.head(2)"
   ]
  },
  {
   "cell_type": "code",
   "execution_count": 713,
   "metadata": {},
   "outputs": [
    {
     "data": {
      "text/html": [
       "<div>\n",
       "<style scoped>\n",
       "    .dataframe tbody tr th:only-of-type {\n",
       "        vertical-align: middle;\n",
       "    }\n",
       "\n",
       "    .dataframe tbody tr th {\n",
       "        vertical-align: top;\n",
       "    }\n",
       "\n",
       "    .dataframe thead th {\n",
       "        text-align: right;\n",
       "    }\n",
       "</style>\n",
       "<table border=\"1\" class=\"dataframe\">\n",
       "  <thead>\n",
       "    <tr style=\"text-align: right;\">\n",
       "      <th></th>\n",
       "      <th>auction_id</th>\n",
       "      <th>experiment</th>\n",
       "      <th>date</th>\n",
       "      <th>hour</th>\n",
       "      <th>device_make</th>\n",
       "      <th>browser</th>\n",
       "      <th>yes</th>\n",
       "    </tr>\n",
       "  </thead>\n",
       "  <tbody>\n",
       "    <tr>\n",
       "      <th>0</th>\n",
       "      <td>00b6fadb-10bd-49e3-a778-290da82f7a8d</td>\n",
       "      <td>control</td>\n",
       "      <td>2020-07-08</td>\n",
       "      <td>4</td>\n",
       "      <td>Samsung SM-A202F</td>\n",
       "      <td>Facebook</td>\n",
       "      <td>1</td>\n",
       "    </tr>\n",
       "    <tr>\n",
       "      <th>1</th>\n",
       "      <td>023458f7-122d-475f-9525-1b9a3cc7a033</td>\n",
       "      <td>control</td>\n",
       "      <td>2020-07-03</td>\n",
       "      <td>15</td>\n",
       "      <td>MRD-LX1</td>\n",
       "      <td>Facebook</td>\n",
       "      <td>0</td>\n",
       "    </tr>\n",
       "  </tbody>\n",
       "</table>\n",
       "</div>"
      ],
      "text/plain": [
       "                             auction_id experiment        date  hour  \\\n",
       "0  00b6fadb-10bd-49e3-a778-290da82f7a8d    control  2020-07-08     4   \n",
       "1  023458f7-122d-475f-9525-1b9a3cc7a033    control  2020-07-03    15   \n",
       "\n",
       "        device_make   browser  yes  \n",
       "0  Samsung SM-A202F  Facebook    1  \n",
       "1           MRD-LX1  Facebook    0  "
      ]
     },
     "execution_count": 713,
     "metadata": {},
     "output_type": "execute_result"
    }
   ],
   "source": [
    "#for chrome mobile facebook\n",
    "columns_to_be_dropped = ['no','SAID_YES']\n",
    "facebook_data_clean = facebook_data.drop(columns_to_be_dropped,axis=1)\n",
    "facebook_data_clean.head(2)"
   ]
  },
  {
   "cell_type": "code",
   "execution_count": 714,
   "metadata": {},
   "outputs": [
    {
     "data": {
      "text/html": [
       "<div>\n",
       "<style scoped>\n",
       "    .dataframe tbody tr th:only-of-type {\n",
       "        vertical-align: middle;\n",
       "    }\n",
       "\n",
       "    .dataframe tbody tr th {\n",
       "        vertical-align: top;\n",
       "    }\n",
       "\n",
       "    .dataframe thead th {\n",
       "        text-align: right;\n",
       "    }\n",
       "</style>\n",
       "<table border=\"1\" class=\"dataframe\">\n",
       "  <thead>\n",
       "    <tr style=\"text-align: right;\">\n",
       "      <th></th>\n",
       "      <th>auction_id</th>\n",
       "      <th>experiment</th>\n",
       "      <th>date</th>\n",
       "      <th>hour</th>\n",
       "      <th>device_make</th>\n",
       "      <th>platform_os</th>\n",
       "      <th>browser</th>\n",
       "      <th>yes</th>\n",
       "      <th>no</th>\n",
       "    </tr>\n",
       "  </thead>\n",
       "  <tbody>\n",
       "    <tr>\n",
       "      <th>0</th>\n",
       "      <td>23b2028c-72ed-43b3-a2d7-d772b2d4d478</td>\n",
       "      <td>exposed</td>\n",
       "      <td>2020-07-03</td>\n",
       "      <td>8</td>\n",
       "      <td>iPhone</td>\n",
       "      <td>5</td>\n",
       "      <td>Mobile Safari</td>\n",
       "      <td>0</td>\n",
       "      <td>1</td>\n",
       "    </tr>\n",
       "    <tr>\n",
       "      <th>1</th>\n",
       "      <td>54a62f37-0c4d-4300-a063-1c6aa99244e5</td>\n",
       "      <td>control</td>\n",
       "      <td>2020-07-03</td>\n",
       "      <td>15</td>\n",
       "      <td>iPhone</td>\n",
       "      <td>5</td>\n",
       "      <td>Mobile Safari</td>\n",
       "      <td>0</td>\n",
       "      <td>1</td>\n",
       "    </tr>\n",
       "  </tbody>\n",
       "</table>\n",
       "</div>"
      ],
      "text/plain": [
       "                             auction_id experiment        date  hour  \\\n",
       "0  23b2028c-72ed-43b3-a2d7-d772b2d4d478    exposed  2020-07-03     8   \n",
       "1  54a62f37-0c4d-4300-a063-1c6aa99244e5    control  2020-07-03    15   \n",
       "\n",
       "  device_make  platform_os        browser  yes  no  \n",
       "0      iPhone            5  Mobile Safari    0   1  \n",
       "1      iPhone            5  Mobile Safari    0   1  "
      ]
     },
     "execution_count": 714,
     "metadata": {},
     "output_type": "execute_result"
    }
   ],
   "source": [
    "platform5_data.head(2)"
   ]
  },
  {
   "cell_type": "code",
   "execution_count": 715,
   "metadata": {},
   "outputs": [
    {
     "data": {
      "text/html": [
       "<div>\n",
       "<style scoped>\n",
       "    .dataframe tbody tr th:only-of-type {\n",
       "        vertical-align: middle;\n",
       "    }\n",
       "\n",
       "    .dataframe tbody tr th {\n",
       "        vertical-align: top;\n",
       "    }\n",
       "\n",
       "    .dataframe thead th {\n",
       "        text-align: right;\n",
       "    }\n",
       "</style>\n",
       "<table border=\"1\" class=\"dataframe\">\n",
       "  <thead>\n",
       "    <tr style=\"text-align: right;\">\n",
       "      <th></th>\n",
       "      <th>auction_id</th>\n",
       "      <th>experiment</th>\n",
       "      <th>date</th>\n",
       "      <th>hour</th>\n",
       "      <th>device_make</th>\n",
       "      <th>platform_os</th>\n",
       "      <th>browser</th>\n",
       "      <th>yes</th>\n",
       "    </tr>\n",
       "  </thead>\n",
       "  <tbody>\n",
       "    <tr>\n",
       "      <th>0</th>\n",
       "      <td>23b2028c-72ed-43b3-a2d7-d772b2d4d478</td>\n",
       "      <td>exposed</td>\n",
       "      <td>2020-07-03</td>\n",
       "      <td>8</td>\n",
       "      <td>iPhone</td>\n",
       "      <td>5</td>\n",
       "      <td>Mobile Safari</td>\n",
       "      <td>0</td>\n",
       "    </tr>\n",
       "    <tr>\n",
       "      <th>1</th>\n",
       "      <td>54a62f37-0c4d-4300-a063-1c6aa99244e5</td>\n",
       "      <td>control</td>\n",
       "      <td>2020-07-03</td>\n",
       "      <td>15</td>\n",
       "      <td>iPhone</td>\n",
       "      <td>5</td>\n",
       "      <td>Mobile Safari</td>\n",
       "      <td>0</td>\n",
       "    </tr>\n",
       "  </tbody>\n",
       "</table>\n",
       "</div>"
      ],
      "text/plain": [
       "                             auction_id experiment        date  hour  \\\n",
       "0  23b2028c-72ed-43b3-a2d7-d772b2d4d478    exposed  2020-07-03     8   \n",
       "1  54a62f37-0c4d-4300-a063-1c6aa99244e5    control  2020-07-03    15   \n",
       "\n",
       "  device_make  platform_os        browser  yes  \n",
       "0      iPhone            5  Mobile Safari    0  \n",
       "1      iPhone            5  Mobile Safari    0  "
      ]
     },
     "execution_count": 715,
     "metadata": {},
     "output_type": "execute_result"
    }
   ],
   "source": [
    "# dropping no columun for platform_5\n",
    "columns_to_be_dropped = ['no']\n",
    "platform5_data_clean = platform5_data.drop(columns_to_be_dropped,axis=1)\n",
    "platform5_data_clean.head(2)"
   ]
  },
  {
   "cell_type": "code",
   "execution_count": 716,
   "metadata": {},
   "outputs": [
    {
     "data": {
      "text/html": [
       "<div>\n",
       "<style scoped>\n",
       "    .dataframe tbody tr th:only-of-type {\n",
       "        vertical-align: middle;\n",
       "    }\n",
       "\n",
       "    .dataframe tbody tr th {\n",
       "        vertical-align: top;\n",
       "    }\n",
       "\n",
       "    .dataframe thead th {\n",
       "        text-align: right;\n",
       "    }\n",
       "</style>\n",
       "<table border=\"1\" class=\"dataframe\">\n",
       "  <thead>\n",
       "    <tr style=\"text-align: right;\">\n",
       "      <th></th>\n",
       "      <th>auction_id</th>\n",
       "      <th>experiment</th>\n",
       "      <th>date</th>\n",
       "      <th>hour</th>\n",
       "      <th>device_make</th>\n",
       "      <th>platform_os</th>\n",
       "      <th>browser</th>\n",
       "      <th>yes</th>\n",
       "      <th>no</th>\n",
       "    </tr>\n",
       "  </thead>\n",
       "  <tbody>\n",
       "    <tr>\n",
       "      <th>0</th>\n",
       "      <td>0016d14a-ae18-4a02-a204-6ba53b52f2ed</td>\n",
       "      <td>exposed</td>\n",
       "      <td>2020-07-05</td>\n",
       "      <td>2</td>\n",
       "      <td>E5823</td>\n",
       "      <td>6</td>\n",
       "      <td>Chrome Mobile WebView</td>\n",
       "      <td>0</td>\n",
       "      <td>1</td>\n",
       "    </tr>\n",
       "    <tr>\n",
       "      <th>1</th>\n",
       "      <td>008aafdf-deef-4482-8fec-d98e3da054da</td>\n",
       "      <td>exposed</td>\n",
       "      <td>2020-07-04</td>\n",
       "      <td>16</td>\n",
       "      <td>Generic Smartphone</td>\n",
       "      <td>6</td>\n",
       "      <td>Chrome Mobile</td>\n",
       "      <td>1</td>\n",
       "      <td>0</td>\n",
       "    </tr>\n",
       "  </tbody>\n",
       "</table>\n",
       "</div>"
      ],
      "text/plain": [
       "                             auction_id experiment        date  hour  \\\n",
       "0  0016d14a-ae18-4a02-a204-6ba53b52f2ed    exposed  2020-07-05     2   \n",
       "1  008aafdf-deef-4482-8fec-d98e3da054da    exposed  2020-07-04    16   \n",
       "\n",
       "          device_make  platform_os                browser  yes  no  \n",
       "0               E5823            6  Chrome Mobile WebView    0   1  \n",
       "1  Generic Smartphone            6          Chrome Mobile    1   0  "
      ]
     },
     "execution_count": 716,
     "metadata": {},
     "output_type": "execute_result"
    }
   ],
   "source": [
    "platform6_data.head(2)"
   ]
  },
  {
   "cell_type": "code",
   "execution_count": 717,
   "metadata": {},
   "outputs": [
    {
     "data": {
      "text/html": [
       "<div>\n",
       "<style scoped>\n",
       "    .dataframe tbody tr th:only-of-type {\n",
       "        vertical-align: middle;\n",
       "    }\n",
       "\n",
       "    .dataframe tbody tr th {\n",
       "        vertical-align: top;\n",
       "    }\n",
       "\n",
       "    .dataframe thead th {\n",
       "        text-align: right;\n",
       "    }\n",
       "</style>\n",
       "<table border=\"1\" class=\"dataframe\">\n",
       "  <thead>\n",
       "    <tr style=\"text-align: right;\">\n",
       "      <th></th>\n",
       "      <th>auction_id</th>\n",
       "      <th>experiment</th>\n",
       "      <th>date</th>\n",
       "      <th>hour</th>\n",
       "      <th>device_make</th>\n",
       "      <th>platform_os</th>\n",
       "      <th>browser</th>\n",
       "      <th>yes</th>\n",
       "    </tr>\n",
       "  </thead>\n",
       "  <tbody>\n",
       "    <tr>\n",
       "      <th>0</th>\n",
       "      <td>0016d14a-ae18-4a02-a204-6ba53b52f2ed</td>\n",
       "      <td>exposed</td>\n",
       "      <td>2020-07-05</td>\n",
       "      <td>2</td>\n",
       "      <td>E5823</td>\n",
       "      <td>6</td>\n",
       "      <td>Chrome Mobile WebView</td>\n",
       "      <td>0</td>\n",
       "    </tr>\n",
       "    <tr>\n",
       "      <th>1</th>\n",
       "      <td>008aafdf-deef-4482-8fec-d98e3da054da</td>\n",
       "      <td>exposed</td>\n",
       "      <td>2020-07-04</td>\n",
       "      <td>16</td>\n",
       "      <td>Generic Smartphone</td>\n",
       "      <td>6</td>\n",
       "      <td>Chrome Mobile</td>\n",
       "      <td>1</td>\n",
       "    </tr>\n",
       "  </tbody>\n",
       "</table>\n",
       "</div>"
      ],
      "text/plain": [
       "                             auction_id experiment        date  hour  \\\n",
       "0  0016d14a-ae18-4a02-a204-6ba53b52f2ed    exposed  2020-07-05     2   \n",
       "1  008aafdf-deef-4482-8fec-d98e3da054da    exposed  2020-07-04    16   \n",
       "\n",
       "          device_make  platform_os                browser  yes  \n",
       "0               E5823            6  Chrome Mobile WebView    0  \n",
       "1  Generic Smartphone            6          Chrome Mobile    1  "
      ]
     },
     "execution_count": 717,
     "metadata": {},
     "output_type": "execute_result"
    }
   ],
   "source": [
    "#dropping no columun for paltform 6\n",
    "columns_to_be_dropped = ['no']\n",
    "platform6_data_clean = platform6_data.drop(columns_to_be_dropped,axis=1)\n",
    "platform6_data_clean.head(2)"
   ]
  },
  {
   "cell_type": "markdown",
   "metadata": {},
   "source": [
    "#   Splitting Numerical and catagoriacal vaiables"
   ]
  },
  {
   "cell_type": "code",
   "execution_count": 718,
   "metadata": {},
   "outputs": [
    {
     "name": "stdout",
     "output_type": "stream",
     "text": [
      "Numerical Columns: ['auction_id', 'experiment', 'date', 'device_make', 'browser']\n",
      "****************\n",
      "Categorical Columns: ['hour', 'yes']\n"
     ]
    }
   ],
   "source": [
    "#for chrome mobile view\n",
    "cat, num = mlp.sep_cat_num(chrome_mobile_data_clean)\n",
    "print(\"Numerical Columns:\", cat)\n",
    "print(\"****************\")\n",
    "print(\"Categorical Columns:\", num)"
   ]
  },
  {
   "cell_type": "code",
   "execution_count": 719,
   "metadata": {},
   "outputs": [
    {
     "name": "stdout",
     "output_type": "stream",
     "text": [
      "Numerical Columns: ['auction_id', 'experiment', 'date', 'device_make', 'browser']\n",
      "****************\n",
      "Categorical Columns: ['hour', 'yes']\n"
     ]
    }
   ],
   "source": [
    "#for chrome mobile web view\n",
    "cat, num = mlp.sep_cat_num(chrome_webview_data_clean)\n",
    "print(\"Numerical Columns:\", cat)\n",
    "print(\"****************\")\n",
    "print(\"Categorical Columns:\", num)"
   ]
  },
  {
   "cell_type": "code",
   "execution_count": 720,
   "metadata": {},
   "outputs": [
    {
     "name": "stdout",
     "output_type": "stream",
     "text": [
      "Numerical Columns: ['auction_id', 'experiment', 'date', 'device_make', 'browser']\n",
      "****************\n",
      "Categorical Columns: ['hour', 'yes']\n"
     ]
    }
   ],
   "source": [
    "#for chrome facebook\n",
    "cat, num = mlp.sep_cat_num(facebook_data_clean)\n",
    "print(\"Numerical Columns:\", cat)\n",
    "print(\"****************\")\n",
    "print(\"Categorical Columns:\", num)"
   ]
  },
  {
   "cell_type": "code",
   "execution_count": 721,
   "metadata": {},
   "outputs": [
    {
     "name": "stdout",
     "output_type": "stream",
     "text": [
      "Numerical Columns: ['auction_id', 'experiment', 'date', 'device_make', 'browser']\n",
      "****************\n",
      "Categorical Columns: ['hour', 'platform_os', 'yes']\n"
     ]
    }
   ],
   "source": [
    "#for chrome platform_5\n",
    "cat, num = mlp.sep_cat_num(platform5_data_clean)\n",
    "print(\"Numerical Columns:\", cat)\n",
    "print(\"****************\")\n",
    "print(\"Categorical Columns:\", num)"
   ]
  },
  {
   "cell_type": "code",
   "execution_count": 722,
   "metadata": {},
   "outputs": [
    {
     "name": "stdout",
     "output_type": "stream",
     "text": [
      "Numerical Columns: ['auction_id', 'experiment', 'date', 'device_make', 'browser']\n",
      "****************\n",
      "Categorical Columns: ['hour', 'platform_os', 'yes']\n"
     ]
    }
   ],
   "source": [
    "#for chrome platform 6 \n",
    "cat, num = mlp.sep_cat_num(platform6_data_clean)\n",
    "print(\"Numerical Columns:\", cat)\n",
    "print(\"****************\")\n",
    "print(\"Categorical Columns:\", num)"
   ]
  },
  {
   "cell_type": "markdown",
   "metadata": {},
   "source": [
    "# Splitting the columns for encoding and label encoding"
   ]
  },
  {
   "cell_type": "code",
   "execution_count": 723,
   "metadata": {},
   "outputs": [
    {
     "data": {
      "text/html": [
       "<div>\n",
       "<style scoped>\n",
       "    .dataframe tbody tr th:only-of-type {\n",
       "        vertical-align: middle;\n",
       "    }\n",
       "\n",
       "    .dataframe tbody tr th {\n",
       "        vertical-align: top;\n",
       "    }\n",
       "\n",
       "    .dataframe thead th {\n",
       "        text-align: right;\n",
       "    }\n",
       "</style>\n",
       "<table border=\"1\" class=\"dataframe\">\n",
       "  <thead>\n",
       "    <tr style=\"text-align: right;\">\n",
       "      <th></th>\n",
       "      <th>auction_id</th>\n",
       "      <th>experiment</th>\n",
       "      <th>date</th>\n",
       "      <th>device_make</th>\n",
       "      <th>browser</th>\n",
       "    </tr>\n",
       "  </thead>\n",
       "  <tbody>\n",
       "    <tr>\n",
       "      <th>count</th>\n",
       "      <td>695</td>\n",
       "      <td>695</td>\n",
       "      <td>695</td>\n",
       "      <td>695</td>\n",
       "      <td>695</td>\n",
       "    </tr>\n",
       "    <tr>\n",
       "      <th>unique</th>\n",
       "      <td>695</td>\n",
       "      <td>2</td>\n",
       "      <td>8</td>\n",
       "      <td>14</td>\n",
       "      <td>1</td>\n",
       "    </tr>\n",
       "    <tr>\n",
       "      <th>top</th>\n",
       "      <td>008aafdf-deef-4482-8fec-d98e3da054da</td>\n",
       "      <td>exposed</td>\n",
       "      <td>2020-07-03</td>\n",
       "      <td>Generic Smartphone</td>\n",
       "      <td>Chrome Mobile</td>\n",
       "    </tr>\n",
       "    <tr>\n",
       "      <th>freq</th>\n",
       "      <td>1</td>\n",
       "      <td>371</td>\n",
       "      <td>176</td>\n",
       "      <td>665</td>\n",
       "      <td>695</td>\n",
       "    </tr>\n",
       "  </tbody>\n",
       "</table>\n",
       "</div>"
      ],
      "text/plain": [
       "                                  auction_id experiment        date  \\\n",
       "count                                    695        695         695   \n",
       "unique                                   695          2           8   \n",
       "top     008aafdf-deef-4482-8fec-d98e3da054da    exposed  2020-07-03   \n",
       "freq                                       1        371         176   \n",
       "\n",
       "               device_make        browser  \n",
       "count                  695            695  \n",
       "unique                  14              1  \n",
       "top     Generic Smartphone  Chrome Mobile  \n",
       "freq                   665            695  "
      ]
     },
     "execution_count": 723,
     "metadata": {},
     "output_type": "execute_result"
    }
   ],
   "source": [
    "chrome_mobile_data_clean[cat].describe()"
   ]
  },
  {
   "cell_type": "code",
   "execution_count": 724,
   "metadata": {},
   "outputs": [
    {
     "data": {
      "text/html": [
       "<div>\n",
       "<style scoped>\n",
       "    .dataframe tbody tr th:only-of-type {\n",
       "        vertical-align: middle;\n",
       "    }\n",
       "\n",
       "    .dataframe tbody tr th {\n",
       "        vertical-align: top;\n",
       "    }\n",
       "\n",
       "    .dataframe thead th {\n",
       "        text-align: right;\n",
       "    }\n",
       "</style>\n",
       "<table border=\"1\" class=\"dataframe\">\n",
       "  <thead>\n",
       "    <tr style=\"text-align: right;\">\n",
       "      <th></th>\n",
       "      <th>auction_id</th>\n",
       "      <th>experiment</th>\n",
       "      <th>date</th>\n",
       "      <th>device_make</th>\n",
       "      <th>browser</th>\n",
       "    </tr>\n",
       "  </thead>\n",
       "  <tbody>\n",
       "    <tr>\n",
       "      <th>count</th>\n",
       "      <td>227</td>\n",
       "      <td>227</td>\n",
       "      <td>227</td>\n",
       "      <td>227</td>\n",
       "      <td>227</td>\n",
       "    </tr>\n",
       "    <tr>\n",
       "      <th>unique</th>\n",
       "      <td>227</td>\n",
       "      <td>2</td>\n",
       "      <td>8</td>\n",
       "      <td>79</td>\n",
       "      <td>1</td>\n",
       "    </tr>\n",
       "    <tr>\n",
       "      <th>top</th>\n",
       "      <td>0016d14a-ae18-4a02-a204-6ba53b52f2ed</td>\n",
       "      <td>exposed</td>\n",
       "      <td>2020-07-03</td>\n",
       "      <td>Generic Smartphone</td>\n",
       "      <td>Chrome Mobile WebView</td>\n",
       "    </tr>\n",
       "    <tr>\n",
       "      <th>freq</th>\n",
       "      <td>1</td>\n",
       "      <td>180</td>\n",
       "      <td>48</td>\n",
       "      <td>43</td>\n",
       "      <td>227</td>\n",
       "    </tr>\n",
       "  </tbody>\n",
       "</table>\n",
       "</div>"
      ],
      "text/plain": [
       "                                  auction_id experiment        date  \\\n",
       "count                                    227        227         227   \n",
       "unique                                   227          2           8   \n",
       "top     0016d14a-ae18-4a02-a204-6ba53b52f2ed    exposed  2020-07-03   \n",
       "freq                                       1        180          48   \n",
       "\n",
       "               device_make                browser  \n",
       "count                  227                    227  \n",
       "unique                  79                      1  \n",
       "top     Generic Smartphone  Chrome Mobile WebView  \n",
       "freq                    43                    227  "
      ]
     },
     "execution_count": 724,
     "metadata": {},
     "output_type": "execute_result"
    }
   ],
   "source": [
    "chrome_webview_data_clean[cat].describe()"
   ]
  },
  {
   "cell_type": "code",
   "execution_count": 725,
   "metadata": {},
   "outputs": [
    {
     "data": {
      "text/html": [
       "<div>\n",
       "<style scoped>\n",
       "    .dataframe tbody tr th:only-of-type {\n",
       "        vertical-align: middle;\n",
       "    }\n",
       "\n",
       "    .dataframe tbody tr th {\n",
       "        vertical-align: top;\n",
       "    }\n",
       "\n",
       "    .dataframe thead th {\n",
       "        text-align: right;\n",
       "    }\n",
       "</style>\n",
       "<table border=\"1\" class=\"dataframe\">\n",
       "  <thead>\n",
       "    <tr style=\"text-align: right;\">\n",
       "      <th></th>\n",
       "      <th>auction_id</th>\n",
       "      <th>experiment</th>\n",
       "      <th>date</th>\n",
       "      <th>device_make</th>\n",
       "      <th>browser</th>\n",
       "    </tr>\n",
       "  </thead>\n",
       "  <tbody>\n",
       "    <tr>\n",
       "      <th>count</th>\n",
       "      <td>156</td>\n",
       "      <td>156</td>\n",
       "      <td>156</td>\n",
       "      <td>156</td>\n",
       "      <td>156</td>\n",
       "    </tr>\n",
       "    <tr>\n",
       "      <th>unique</th>\n",
       "      <td>156</td>\n",
       "      <td>2</td>\n",
       "      <td>8</td>\n",
       "      <td>63</td>\n",
       "      <td>1</td>\n",
       "    </tr>\n",
       "    <tr>\n",
       "      <th>top</th>\n",
       "      <td>00b6fadb-10bd-49e3-a778-290da82f7a8d</td>\n",
       "      <td>control</td>\n",
       "      <td>2020-07-03</td>\n",
       "      <td>Samsung SM-G960F</td>\n",
       "      <td>Facebook</td>\n",
       "    </tr>\n",
       "    <tr>\n",
       "      <th>freq</th>\n",
       "      <td>1</td>\n",
       "      <td>112</td>\n",
       "      <td>47</td>\n",
       "      <td>16</td>\n",
       "      <td>156</td>\n",
       "    </tr>\n",
       "  </tbody>\n",
       "</table>\n",
       "</div>"
      ],
      "text/plain": [
       "                                  auction_id experiment        date  \\\n",
       "count                                    156        156         156   \n",
       "unique                                   156          2           8   \n",
       "top     00b6fadb-10bd-49e3-a778-290da82f7a8d    control  2020-07-03   \n",
       "freq                                       1        112          47   \n",
       "\n",
       "             device_make   browser  \n",
       "count                156       156  \n",
       "unique                63         1  \n",
       "top     Samsung SM-G960F  Facebook  \n",
       "freq                  16       156  "
      ]
     },
     "execution_count": 725,
     "metadata": {},
     "output_type": "execute_result"
    }
   ],
   "source": [
    "facebook_data_clean[cat].describe()"
   ]
  },
  {
   "cell_type": "code",
   "execution_count": 726,
   "metadata": {},
   "outputs": [
    {
     "data": {
      "text/html": [
       "<div>\n",
       "<style scoped>\n",
       "    .dataframe tbody tr th:only-of-type {\n",
       "        vertical-align: middle;\n",
       "    }\n",
       "\n",
       "    .dataframe tbody tr th {\n",
       "        vertical-align: top;\n",
       "    }\n",
       "\n",
       "    .dataframe thead th {\n",
       "        text-align: right;\n",
       "    }\n",
       "</style>\n",
       "<table border=\"1\" class=\"dataframe\">\n",
       "  <thead>\n",
       "    <tr style=\"text-align: right;\">\n",
       "      <th></th>\n",
       "      <th>auction_id</th>\n",
       "      <th>experiment</th>\n",
       "      <th>date</th>\n",
       "      <th>device_make</th>\n",
       "      <th>browser</th>\n",
       "    </tr>\n",
       "  </thead>\n",
       "  <tbody>\n",
       "    <tr>\n",
       "      <th>count</th>\n",
       "      <td>17</td>\n",
       "      <td>17</td>\n",
       "      <td>17</td>\n",
       "      <td>17</td>\n",
       "      <td>17</td>\n",
       "    </tr>\n",
       "    <tr>\n",
       "      <th>unique</th>\n",
       "      <td>17</td>\n",
       "      <td>2</td>\n",
       "      <td>8</td>\n",
       "      <td>1</td>\n",
       "      <td>3</td>\n",
       "    </tr>\n",
       "    <tr>\n",
       "      <th>top</th>\n",
       "      <td>23b2028c-72ed-43b3-a2d7-d772b2d4d478</td>\n",
       "      <td>control</td>\n",
       "      <td>2020-07-03</td>\n",
       "      <td>iPhone</td>\n",
       "      <td>Mobile Safari</td>\n",
       "    </tr>\n",
       "    <tr>\n",
       "      <th>freq</th>\n",
       "      <td>1</td>\n",
       "      <td>13</td>\n",
       "      <td>5</td>\n",
       "      <td>17</td>\n",
       "      <td>13</td>\n",
       "    </tr>\n",
       "  </tbody>\n",
       "</table>\n",
       "</div>"
      ],
      "text/plain": [
       "                                  auction_id experiment        date  \\\n",
       "count                                     17         17          17   \n",
       "unique                                    17          2           8   \n",
       "top     23b2028c-72ed-43b3-a2d7-d772b2d4d478    control  2020-07-03   \n",
       "freq                                       1         13           5   \n",
       "\n",
       "       device_make        browser  \n",
       "count           17             17  \n",
       "unique           1              3  \n",
       "top         iPhone  Mobile Safari  \n",
       "freq            17             13  "
      ]
     },
     "execution_count": 726,
     "metadata": {},
     "output_type": "execute_result"
    }
   ],
   "source": [
    "platform5_data_clean[cat].describe()"
   ]
  },
  {
   "cell_type": "code",
   "execution_count": 727,
   "metadata": {},
   "outputs": [
    {
     "data": {
      "text/html": [
       "<div>\n",
       "<style scoped>\n",
       "    .dataframe tbody tr th:only-of-type {\n",
       "        vertical-align: middle;\n",
       "    }\n",
       "\n",
       "    .dataframe tbody tr th {\n",
       "        vertical-align: top;\n",
       "    }\n",
       "\n",
       "    .dataframe thead th {\n",
       "        text-align: right;\n",
       "    }\n",
       "</style>\n",
       "<table border=\"1\" class=\"dataframe\">\n",
       "  <thead>\n",
       "    <tr style=\"text-align: right;\">\n",
       "      <th></th>\n",
       "      <th>auction_id</th>\n",
       "      <th>experiment</th>\n",
       "      <th>date</th>\n",
       "      <th>device_make</th>\n",
       "      <th>browser</th>\n",
       "    </tr>\n",
       "  </thead>\n",
       "  <tbody>\n",
       "    <tr>\n",
       "      <th>count</th>\n",
       "      <td>1226</td>\n",
       "      <td>1226</td>\n",
       "      <td>1226</td>\n",
       "      <td>1226</td>\n",
       "      <td>1226</td>\n",
       "    </tr>\n",
       "    <tr>\n",
       "      <th>unique</th>\n",
       "      <td>1226</td>\n",
       "      <td>2</td>\n",
       "      <td>8</td>\n",
       "      <td>115</td>\n",
       "      <td>6</td>\n",
       "    </tr>\n",
       "    <tr>\n",
       "      <th>top</th>\n",
       "      <td>0016d14a-ae18-4a02-a204-6ba53b52f2ed</td>\n",
       "      <td>exposed</td>\n",
       "      <td>2020-07-03</td>\n",
       "      <td>Generic Smartphone</td>\n",
       "      <td>Chrome Mobile</td>\n",
       "    </tr>\n",
       "    <tr>\n",
       "      <th>freq</th>\n",
       "      <td>1</td>\n",
       "      <td>653</td>\n",
       "      <td>320</td>\n",
       "      <td>719</td>\n",
       "      <td>695</td>\n",
       "    </tr>\n",
       "  </tbody>\n",
       "</table>\n",
       "</div>"
      ],
      "text/plain": [
       "                                  auction_id experiment        date  \\\n",
       "count                                   1226       1226        1226   \n",
       "unique                                  1226          2           8   \n",
       "top     0016d14a-ae18-4a02-a204-6ba53b52f2ed    exposed  2020-07-03   \n",
       "freq                                       1        653         320   \n",
       "\n",
       "               device_make        browser  \n",
       "count                 1226           1226  \n",
       "unique                 115              6  \n",
       "top     Generic Smartphone  Chrome Mobile  \n",
       "freq                   719            695  "
      ]
     },
     "execution_count": 727,
     "metadata": {},
     "output_type": "execute_result"
    }
   ],
   "source": [
    "platform6_data_clean[cat].describe()"
   ]
  },
  {
   "cell_type": "code",
   "execution_count": 728,
   "metadata": {},
   "outputs": [
    {
     "name": "stdout",
     "output_type": "stream",
     "text": [
      "cat_labeler output...\n",
      "\n",
      "   auction_id  experiment  date  hour  device_make  browser  yes\n",
      "0           0           1     1    16            1        0    1\n",
      "1           1           1     3     8            1        0    0\n",
      "\n",
      "\n",
      "scaler output... \n",
      "\n",
      "   auction_id  experiment      date      hour  device_make  browser  yes\n",
      "0    0.000000         1.0  0.142857  0.695652     0.076923      0.0  1.0\n",
      "1    0.001441         1.0  0.428571  0.347826     0.076923      0.0  0.0\n",
      "\n",
      "\n",
      "target_features output... \n",
      "\n",
      "features size: (695, 6)\n",
      "\n",
      "\n",
      "set_splitter output... \n",
      "\n",
      "X_train shape: (512, 6)\n",
      "y_train shape: (512,)\n",
      "x_test shape: (70, 6)\n",
      "y_test shape: (70,)\n",
      "X_val shape: (113, 6)\n",
      "y_val shape: (113,)\n",
      "cat_labeler output...\n",
      "\n",
      "   auction_id  experiment  date  hour  device_make  browser  yes\n",
      "0           0           1     2     2            3        0    0\n",
      "1           1           1     2     6           11        0    0\n",
      "\n",
      "\n",
      "scaler output... \n",
      "\n",
      "   auction_id  experiment      date      hour  device_make  browser  yes\n",
      "0    0.000000         1.0  0.285714  0.090909     0.038462      0.0  0.0\n",
      "1    0.004425         1.0  0.285714  0.272727     0.141026      0.0  0.0\n",
      "\n",
      "\n",
      "target_features output... \n",
      "\n",
      "features size: (227, 6)\n",
      "\n",
      "\n",
      "set_splitter output... \n",
      "\n",
      "X_train shape: (167, 6)\n",
      "y_train shape: (167,)\n",
      "x_test shape: (23, 6)\n",
      "y_test shape: (23,)\n",
      "X_val shape: (37, 6)\n",
      "y_val shape: (37,)\n",
      "cat_labeler output...\n",
      "\n",
      "   auction_id  experiment  date  hour  device_make  browser  yes\n",
      "0           0           0     5     4           23        0    1\n",
      "1           1           0     0    15           12        0    0\n",
      "\n",
      "\n",
      "scaler output... \n",
      "\n",
      "   auction_id  experiment      date      hour  device_make  browser  yes\n",
      "0    0.000000         0.0  0.714286  0.173913     0.370968      0.0  1.0\n",
      "1    0.006452         0.0  0.000000  0.652174     0.193548      0.0  0.0\n",
      "\n",
      "\n",
      "target_features output... \n",
      "\n",
      "features size: (156, 6)\n",
      "\n",
      "\n",
      "set_splitter output... \n",
      "\n",
      "X_train shape: (114, 6)\n",
      "y_train shape: (114,)\n",
      "x_test shape: (16, 6)\n",
      "y_test shape: (16,)\n",
      "X_val shape: (26, 6)\n",
      "y_val shape: (26,)\n",
      "cat_labeler output...\n",
      "\n",
      "   auction_id  experiment  date  hour  device_make  platform_os  browser  yes\n",
      "0           0           1     0     8            0            5        1    0\n",
      "1           1           0     0    15            0            5        1    0\n",
      "\n",
      "\n",
      "scaler output... \n",
      "\n",
      "   auction_id  experiment  date    hour  device_make  platform_os  browser  \\\n",
      "0      0.0000         1.0   0.0  0.4375          0.0          0.0      0.5   \n",
      "1      0.0625         0.0   0.0  0.8750          0.0          0.0      0.5   \n",
      "\n",
      "   yes  \n",
      "0  0.0  \n",
      "1  0.0  \n",
      "\n",
      "\n",
      "target_features output... \n",
      "\n",
      "features size: (17, 6)\n",
      "\n",
      "\n",
      "set_splitter output... \n",
      "\n",
      "X_train shape: (12, 6)\n",
      "y_train shape: (12,)\n",
      "x_test shape: (2, 6)\n",
      "y_test shape: (2,)\n",
      "X_val shape: (3, 6)\n",
      "y_val shape: (3,)\n",
      "cat_labeler output...\n",
      "\n",
      "   auction_id  experiment  date  hour  device_make  platform_os  browser  yes\n",
      "0           0           1     2     2            4            6        2    0\n",
      "1           1           1     1    16           13            6        1    1\n",
      "\n",
      "\n",
      "scaler output... \n",
      "\n",
      "   auction_id  experiment      date      hour  device_make  platform_os  \\\n",
      "0    0.000000         1.0  0.285714  0.086957     0.035088          0.0   \n",
      "1    0.000816         1.0  0.142857  0.695652     0.114035          0.0   \n",
      "\n",
      "   browser  yes  \n",
      "0      0.4  0.0  \n",
      "1      0.2  1.0  \n",
      "\n",
      "\n",
      "target_features output... \n",
      "\n",
      "features size: (1226, 6)\n",
      "\n",
      "\n",
      "set_splitter output... \n",
      "\n",
      "X_train shape: (904, 6)\n",
      "y_train shape: (904,)\n",
      "x_test shape: (123, 6)\n",
      "y_test shape: (123,)\n",
      "X_val shape: (199, 6)\n",
      "y_val shape: (199,)\n"
     ]
    }
   ],
   "source": [
    "pipe_1 = Pipeline(\n",
    "    steps=[\n",
    "        (\"label categories\", FunctionTransformer(mlp.cat_labeler, kw_args={\"cat_cols\": cat})),\n",
    "        (\"scale data\", FunctionTransformer(mlp.scaler)),\n",
    "        (\"separate target and features\", FunctionTransformer(mlp.target_feature, kw_args={\"f_r\": [0, 6], \"t\":-1})),\n",
    "        (\"divide dataset\", FunctionTransformer(mlp.set_splitter, kw_args={\"test\": 0.1, \"val\":0.2, \"rand_state\":8})),      \n",
    "        ])\n",
    "chrome_mobile_set = pipe_1.fit_transform(chrome_mobile_data_clean)\n",
    "chrome_webview_set = pipe_1.fit_transform(chrome_webview_data_clean)\n",
    "facebook_set = pipe_1.fit_transform(facebook_data_clean)\n",
    "platform5_set = pipe_1.fit_transform(platform5_data_clean)\n",
    "platform6_set = pipe_1.fit_transform(platform6_data_clean)"
   ]
  },
  {
   "cell_type": "code",
   "execution_count": 729,
   "metadata": {},
   "outputs": [],
   "source": [
    "pipe_chrome_mobile =Pipeline([('scalar3',StandardScaler()),('rf_classifier',RandomForestClassifier(random_state=2))])\n",
    "pipe_chrome_webview =Pipeline([('scalar3',StandardScaler()),('rf_classifier',RandomForestClassifier(random_state=2))])\n",
    "pipe_facebook =Pipeline([('scalar3',StandardScaler()),('rf_classifier',RandomForestClassifier(random_state=2))])\n",
    "pipe_platform5 =Pipeline([('scalar3',StandardScaler()),('rf_classifier',RandomForestClassifier(random_state=2))])\n",
    "pipe_platform6 =Pipeline([('scalar3',StandardScaler()),('rf_classifier',RandomForestClassifier(random_state=2))])"
   ]
  },
  {
   "cell_type": "code",
   "execution_count": 730,
   "metadata": {},
   "outputs": [
    {
     "name": "stdout",
     "output_type": "stream",
     "text": [
      "The accuracy we get using the chrome mobile data is: 0.5398230088495575\n"
     ]
    }
   ],
   "source": [
    "pipe_chrome_mobile.fit(chrome_mobile_set[0], chrome_mobile_set[1])\n",
    "result = pipe_chrome_mobile.score(chrome_mobile_set[4],chrome_mobile_set[5])\n",
    "\n",
    "print(f'The accuracy we get using the chrome mobile data is: {result}')\n"
   ]
  },
  {
   "cell_type": "code",
   "execution_count": 731,
   "metadata": {},
   "outputs": [
    {
     "name": "stdout",
     "output_type": "stream",
     "text": [
      "The accuracy we get using the chrome mobile webview data is: 0.5405405405405406\n"
     ]
    }
   ],
   "source": [
    "pipe_chrome_webview.fit(chrome_webview_set[0], chrome_webview_set[1])\n",
    "result = pipe_chrome_webview.score(chrome_webview_set[4],chrome_webview_set[5])\n",
    "\n",
    "print(f'The accuracy we get using the chrome mobile webview data is: {result}')\n"
   ]
  },
  {
   "cell_type": "code",
   "execution_count": 732,
   "metadata": {},
   "outputs": [
    {
     "name": "stdout",
     "output_type": "stream",
     "text": [
      "The accuracy we get using the facebook data is: 0.5\n"
     ]
    }
   ],
   "source": [
    "pipe_facebook.fit(facebook_set[0], facebook_set[1])\n",
    "result = pipe_facebook.score(facebook_set[4],facebook_set[5])\n",
    "\n",
    "print(f'The accuracy we get using the facebook data is: {result}')\n"
   ]
  },
  {
   "cell_type": "code",
   "execution_count": 733,
   "metadata": {},
   "outputs": [
    {
     "name": "stdout",
     "output_type": "stream",
     "text": [
      "The accuracy we get using the platform5 data is: 0.3333333333333333\n"
     ]
    }
   ],
   "source": [
    "pipe_platform5.fit(platform5_set[0], platform5_set[1])\n",
    "result = pipe_platform5.score(platform5_set[4],platform5_set[5])\n",
    "\n",
    "print(f'The accuracy we get using the platform5 data is: {result}')\n"
   ]
  },
  {
   "cell_type": "code",
   "execution_count": 734,
   "metadata": {},
   "outputs": [
    {
     "name": "stdout",
     "output_type": "stream",
     "text": [
      "The accuracy we get using the platform6 data is: 0.5025125628140703\n"
     ]
    }
   ],
   "source": [
    "pipe_platform6.fit(platform6_set[0], platform6_set[1])\n",
    "result = pipe_platform6.score(platform6_set[4],platform6_set[5])\n",
    "\n",
    "print(f'The accuracy we get using the platform6 data is: {result}')\n"
   ]
  },
  {
   "cell_type": "code",
   "execution_count": 735,
   "metadata": {},
   "outputs": [],
   "source": [
    "def namestr(obj, namespace):\n",
    "    return [name for name in namespace if namespace[name] is obj]"
   ]
  },
  {
   "cell_type": "code",
   "execution_count": 736,
   "metadata": {},
   "outputs": [],
   "source": [
    "\n",
    "clean_data_list = [chrome_mobile_data_clean,chrome_webview_data_clean,facebook_data_clean,platform5_data_clean,platform6_data_clean]"
   ]
  },
  {
   "cell_type": "code",
   "execution_count": 737,
   "metadata": {},
   "outputs": [],
   "source": [
    "model=RandomForestClassifier()\n",
    "kfold_validation=KFold(5)"
   ]
  },
  {
   "cell_type": "code",
   "execution_count": 738,
   "metadata": {},
   "outputs": [
    {
     "name": "stdout",
     "output_type": "stream",
     "text": [
      "Result of clean_data\n",
      "\n",
      "[0.49640288 0.52517986 0.44604317 0.54676259 0.52517986]\n",
      "0.5079136690647481 \n",
      "\n",
      "************************\n",
      "\n",
      "\n",
      "Result of clean_data\n",
      "\n",
      "[0.5        0.39130435 0.55555556 0.53333333 0.62222222]\n",
      "0.5204830917874397 \n",
      "\n",
      "************************\n",
      "\n",
      "\n",
      "Result of clean_data\n",
      "\n",
      "[0.4375     0.48387097 0.41935484 0.48387097 0.48387097]\n",
      "0.4616935483870968 \n",
      "\n",
      "************************\n",
      "\n",
      "\n",
      "Result of clean_data\n",
      "\n",
      "[0.5        0.75       0.66666667 0.33333333 0.33333333]\n",
      "0.5166666666666667 \n",
      "\n",
      "************************\n",
      "\n",
      "\n",
      "Result of clean_data\n",
      "\n",
      "[0.51626016 0.48979592 0.52244898 0.50612245 0.53061224]\n",
      "0.5130479508876722 \n",
      "\n",
      "************************\n",
      "\n",
      "\n"
     ]
    }
   ],
   "source": [
    "for clean_data in clean_data_list:\n",
    "  x = clean_data.iloc[:,:6]\n",
    "  y = clean_data.iloc[:,-1]\n",
    "  results=cross_val_score(model,x,y,cv=kfold_validation)\n",
    "  name = namestr(clean_data,globals())\n",
    "  print(f'Result of {name[0]}\\n')\n",
    "  print(results)\n",
    "  print(np.mean(results),'\\n')\n",
    "  print('************************')\n",
    "  print('\\n')"
   ]
  },
  {
   "cell_type": "markdown",
   "metadata": {},
   "source": [
    "According the results we got above using the 5-fold validation randomforset classifier the maximum accuracy we got is 0.75 from all the datasets. Following this we are can deduce that either the data used is not enought or the model is not suitable as the accuracy is less than 80%"
   ]
  }
 ],
 "metadata": {
  "interpreter": {
   "hash": "ff9febebe25a2d7ce3624b0c94722103db22685420c5c5946ccbfd99f2f56a76"
  },
  "kernelspec": {
   "display_name": "Python 3.9.12 ('meron_working')",
   "language": "python",
   "name": "python3"
  },
  "language_info": {
   "codemirror_mode": {
    "name": "ipython",
    "version": 3
   },
   "file_extension": ".py",
   "mimetype": "text/x-python",
   "name": "python",
   "nbconvert_exporter": "python",
   "pygments_lexer": "ipython3",
   "version": "3.9.12"
  },
  "orig_nbformat": 4
 },
 "nbformat": 4,
 "nbformat_minor": 2
}
