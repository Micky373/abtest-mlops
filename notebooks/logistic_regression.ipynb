{
 "cells": [
  {
   "cell_type": "code",
   "execution_count": 1,
   "metadata": {},
   "outputs": [
    {
     "name": "stderr",
     "output_type": "stream",
     "text": [
      "c:\\Users\\Micky\\anaconda3\\lib\\site-packages\\xgboost\\compat.py:36: FutureWarning: pandas.Int64Index is deprecated and will be removed from pandas in a future version. Use pandas.Index with the appropriate dtype instead.\n",
      "  from pandas import MultiIndex, Int64Index\n"
     ]
    }
   ],
   "source": [
    "# Importing the usefull libraries\n",
    "\n",
    "import pandas as pd\n",
    "import numpy as np\n",
    "import math\n",
    "import matplotlib.pyplot as plt\n",
    "from sklearn.model_selection import train_test_split\n",
    "from sklearn.preprocessing import StandardScaler, LabelEncoder\n",
    "from sklearn.metrics import accuracy_score, confusion_matrix\n",
    "from sklearn.pipeline import Pipeline\n",
    "from sklearn.linear_model import LogisticRegression\n",
    "from sklearn.preprocessing import FunctionTransformer\n",
    "from sklearn.model_selection import KFold\n",
    "from sklearn.model_selection import cross_val_score,train_test_split\n",
    "from sklearn.metrics import mean_squared_error,mean_absolute_error, r2_score\n",
    "\n",
    "import sys\n",
    "sys.path.insert(1, \"../scripts\")\n",
    "from ml_processors import ML_Processor as MLP\n",
    "from models import ML_Models\n",
    "\n",
    "mlp = MLP()\n",
    "mlm = ML_Models()\n"
   ]
  },
  {
   "cell_type": "code",
   "execution_count": 2,
   "metadata": {},
   "outputs": [],
   "source": [
    "# Reading and assigning a variable to the respective datasets\n",
    "\n",
    "cm_data =  pd.read_csv('../data/chrome_data.csv')\n",
    "cm_w_data =  pd.read_csv('../data/chrome_mobile_webview_data.csv')\n",
    "fb_data =  pd.read_csv('../data/facebook_data.csv')\n",
    "pl_5_data =  pd.read_csv('../data/platform_5.csv')\n",
    "pl_6_data =  pd.read_csv('../data/platform_6.csv')\n"
   ]
  },
  {
   "cell_type": "code",
   "execution_count": 3,
   "metadata": {},
   "outputs": [],
   "source": [
    "\n",
    "# separating categorical and numerical variables\n",
    "\n",
    "cat2, num2 = mlp.sep_cat_num(cm_data)\n",
    "cat3, num3 = mlp.sep_cat_num(cm_w_data)\n",
    "cat4, num4 = mlp.sep_cat_num(fb_data)\n",
    "cat5, num5 = mlp.sep_cat_num(pl_5_data)\n",
    "cat6, num6 = mlp.sep_cat_num(pl_6_data)"
   ]
  },
  {
   "cell_type": "code",
   "execution_count": 4,
   "metadata": {},
   "outputs": [
    {
     "data": {
      "text/html": [
       "<div>\n",
       "<style scoped>\n",
       "    .dataframe tbody tr th:only-of-type {\n",
       "        vertical-align: middle;\n",
       "    }\n",
       "\n",
       "    .dataframe tbody tr th {\n",
       "        vertical-align: top;\n",
       "    }\n",
       "\n",
       "    .dataframe thead th {\n",
       "        text-align: right;\n",
       "    }\n",
       "</style>\n",
       "<table border=\"1\" class=\"dataframe\">\n",
       "  <thead>\n",
       "    <tr style=\"text-align: right;\">\n",
       "      <th></th>\n",
       "      <th>auction_id</th>\n",
       "      <th>experiment</th>\n",
       "      <th>date</th>\n",
       "      <th>device_make</th>\n",
       "    </tr>\n",
       "  </thead>\n",
       "  <tbody>\n",
       "    <tr>\n",
       "      <th>count</th>\n",
       "      <td>695</td>\n",
       "      <td>695</td>\n",
       "      <td>695</td>\n",
       "      <td>695</td>\n",
       "    </tr>\n",
       "    <tr>\n",
       "      <th>unique</th>\n",
       "      <td>695</td>\n",
       "      <td>2</td>\n",
       "      <td>8</td>\n",
       "      <td>14</td>\n",
       "    </tr>\n",
       "    <tr>\n",
       "      <th>top</th>\n",
       "      <td>008aafdf-deef-4482-8fec-d98e3da054da</td>\n",
       "      <td>exposed</td>\n",
       "      <td>2020-07-03</td>\n",
       "      <td>Generic Smartphone</td>\n",
       "    </tr>\n",
       "    <tr>\n",
       "      <th>freq</th>\n",
       "      <td>1</td>\n",
       "      <td>371</td>\n",
       "      <td>176</td>\n",
       "      <td>665</td>\n",
       "    </tr>\n",
       "  </tbody>\n",
       "</table>\n",
       "</div>"
      ],
      "text/plain": [
       "                                  auction_id experiment        date  \\\n",
       "count                                    695        695         695   \n",
       "unique                                   695          2           8   \n",
       "top     008aafdf-deef-4482-8fec-d98e3da054da    exposed  2020-07-03   \n",
       "freq                                       1        371         176   \n",
       "\n",
       "               device_make  \n",
       "count                  695  \n",
       "unique                  14  \n",
       "top     Generic Smartphone  \n",
       "freq                   665  "
      ]
     },
     "execution_count": 4,
     "metadata": {},
     "output_type": "execute_result"
    }
   ],
   "source": [
    "# Describing the catagorical variables \n",
    "\n",
    "cm_data[cat2].describe()"
   ]
  },
  {
   "cell_type": "code",
   "execution_count": 5,
   "metadata": {},
   "outputs": [
    {
     "name": "stdout",
     "output_type": "stream",
     "text": [
      "catagories successfully labeled\n",
      "Data successfully scaled\n",
      "target and features separated\n",
      "data successfully splitted\n",
      "catagories successfully labeled\n",
      "Data successfully scaled\n",
      "target and features separated\n",
      "data successfully splitted\n",
      "catagories successfully labeled\n",
      "Data successfully scaled\n",
      "target and features separated\n",
      "data successfully splitted\n",
      "catagories successfully labeled\n",
      "Data successfully scaled\n",
      "target and features separated\n",
      "data successfully splitted\n",
      "catagories successfully labeled\n",
      "Data successfully scaled\n",
      "target and features separated\n",
      "data successfully splitted\n"
     ]
    }
   ],
   "source": [
    "# Using pipeline for the Machine learning\n",
    "\n",
    "def processor_pipe(categories):\n",
    "    pipe_1 = Pipeline(\n",
    "        steps=[\n",
    "            (\"label categories\", FunctionTransformer(mlp.cat_labeler, kw_args={\"cat_cols\": categories})),\n",
    "            (\"scale data\", FunctionTransformer(mlp.scaler)),\n",
    "            (\"separate target and features\", FunctionTransformer(mlp.target_feature, kw_args={\"f_r\": [0, 6], \"t\":-1})),\n",
    "            (\"divide dataset\", FunctionTransformer(mlp.set_splitter, kw_args={\"test\": 0.1, \"val\":0.2, \"rand_state\":8})),      \n",
    "            ])\n",
    "    return pipe_1\n",
    "\n",
    "pipe_1 = processor_pipe(cat2)\n",
    "pipe_2 = processor_pipe(cat5)\n",
    "chrome_set = pipe_1.fit_transform(cm_data)\n",
    "chrome_mobile_set = pipe_1.fit_transform(cm_w_data)\n",
    "facebook_set = pipe_1.fit_transform(fb_data)\n",
    "platform_5_set = pipe_2.fit_transform(pl_5_data)\n",
    "platform_6_set = pipe_2.fit_transform(pl_6_data)"
   ]
  },
  {
   "cell_type": "code",
   "execution_count": 6,
   "metadata": {},
   "outputs": [],
   "source": [
    "# Creating a ML pipeline for all the datasets\n",
    "\n",
    "pipe_chrome =Pipeline([('scalar1',StandardScaler()),('lr_classifier',LogisticRegression(random_state=2))])\n",
    "pipe_chrome_webview =Pipeline([('scalar1',StandardScaler()),('lr_classifier',LogisticRegression(random_state=2))])\n",
    "pipe_facebook =Pipeline([('scalar1',StandardScaler()),('lr_classifier',LogisticRegression(random_state=2))])\n",
    "pipe_pl_5 =Pipeline([('scalar1',StandardScaler()),('lr_classifier',LogisticRegression(random_state=2))])\n",
    "pipe_pl_6 =Pipeline([('scalar1',StandardScaler()),('lr_classifier',LogisticRegression(random_state=2))])"
   ]
  },
  {
   "cell_type": "code",
   "execution_count": 7,
   "metadata": {},
   "outputs": [
    {
     "name": "stdout",
     "output_type": "stream",
     "text": [
      "The accuracy we get using the chrome mobile webview data is: 0.4864864864864865\n"
     ]
    }
   ],
   "source": [
    "# Finding and printing accuracy score of the Logistic regression for the chrome dataset\n",
    "\n",
    "chrome_model = pipe_chrome.fit(chrome_mobile_set[0], chrome_mobile_set[1])\n",
    "result = pipe_chrome.score(chrome_mobile_set[4],chrome_mobile_set[5])\n",
    "\n",
    "print(f'The accuracy we get using the chrome mobile webview data is: {result}')"
   ]
  },
  {
   "cell_type": "code",
   "execution_count": 8,
   "metadata": {},
   "outputs": [
    {
     "name": "stdout",
     "output_type": "stream",
     "text": [
      "The accuracy we get using the chrome mobile data is: 0.5663716814159292\n"
     ]
    }
   ],
   "source": [
    "# Finding and printing accuracy score of the Logistic regression for the chrome mobile view dataset\n",
    "\n",
    "\n",
    "pipe_chrome_webview.fit(chrome_set[0], chrome_set[1])\n",
    "result = pipe_chrome_webview.score(chrome_set[4],chrome_set[5])\n",
    "\n",
    "print(f'The accuracy we get using the chrome mobile data is: {result}')"
   ]
  },
  {
   "cell_type": "code",
   "execution_count": 9,
   "metadata": {},
   "outputs": [
    {
     "name": "stdout",
     "output_type": "stream",
     "text": [
      "The accuracy we get using the facebook data is: 0.46153846153846156\n"
     ]
    }
   ],
   "source": [
    "# Finding and printing accuracy score of the Logistic regression for the facebook dataset\n",
    "\n",
    "\n",
    "pipe_facebook.fit(facebook_set[0], facebook_set[1])\n",
    "result = pipe_facebook.score(facebook_set[4],facebook_set[5])\n",
    "\n",
    "print(f'The accuracy we get using the facebook data is: {result}')"
   ]
  },
  {
   "cell_type": "code",
   "execution_count": 10,
   "metadata": {},
   "outputs": [
    {
     "name": "stdout",
     "output_type": "stream",
     "text": [
      "The accuracy we get using the platform 5 data is: 0.5025125628140703\n"
     ]
    }
   ],
   "source": [
    "# Finding and printing accuracy score of the Logistic regression for the platform 5 dataset\n",
    "\n",
    "\n",
    "pipe_pl_5.fit(platform_5_set[0], platform_5_set[1])\n",
    "result = pipe_pl_5.score(platform_5_set[4],platform_5_set[5])\n",
    "\n",
    "print(f'The accuracy we get using the platform 5 data is: {result}')"
   ]
  },
  {
   "cell_type": "code",
   "execution_count": 11,
   "metadata": {},
   "outputs": [
    {
     "name": "stdout",
     "output_type": "stream",
     "text": [
      "The accuracy we get using the platform 6 data is: 0.3333333333333333\n"
     ]
    }
   ],
   "source": [
    "# Finding and printing accuracy score of the Logistic regression for the platform 6 dataset\n",
    "\n",
    "pipe_pl_6.fit(platform_6_set[0], platform_6_set[1])\n",
    "result = pipe_pl_6.score(platform_6_set[4],platform_6_set[5])\n",
    "\n",
    "print(f'The accuracy we get using the platform 6 data is: {result}')"
   ]
  },
  {
   "cell_type": "code",
   "execution_count": 12,
   "metadata": {},
   "outputs": [],
   "source": [
    "# Defining a simple function that will find our variable names\n",
    "\n",
    "def namestr(obj, namespace):\n",
    "    return [name for name in namespace if namespace[name] is obj]"
   ]
  },
  {
   "cell_type": "code",
   "execution_count": 14,
   "metadata": {},
   "outputs": [],
   "source": [
    "# Putting the datasets in to a list for simpler access\n",
    "\n",
    "clean_data_list = [cm_data,cm_w_data,fb_data,pl_5_data,pl_6_data]"
   ]
  },
  {
   "cell_type": "code",
   "execution_count": 15,
   "metadata": {},
   "outputs": [],
   "source": [
    "# Validating using KFold of 5\n",
    "\n",
    "model=LogisticRegression()\n",
    "kfold_validation=KFold(5)"
   ]
  },
  {
   "cell_type": "code",
   "execution_count": 16,
   "metadata": {},
   "outputs": [
    {
     "name": "stdout",
     "output_type": "stream",
     "text": [
      "Result of cm_data\n",
      "\n",
      "[0.53956835 0.5323741  0.55395683 0.50359712 0.56834532]\n",
      "0.539568345323741 \n",
      "\n",
      "#################################\n",
      "\n",
      "\n",
      "Result of cm_w_data\n",
      "\n",
      "[0.5        0.43478261 0.57777778 0.44444444 0.51111111]\n",
      "0.4936231884057971 \n",
      "\n",
      "#################################\n",
      "\n",
      "\n",
      "Result of fb_data\n",
      "\n",
      "[0.5        0.58064516 0.41935484 0.41935484 0.5483871 ]\n",
      "0.4935483870967742 \n",
      "\n",
      "#################################\n",
      "\n",
      "\n",
      "Result of pl_5_data\n",
      "\n",
      "[0.5203252  0.52653061 0.51836735 0.53469388 0.54693878]\n",
      "0.529371163099386 \n",
      "\n",
      "#################################\n",
      "\n",
      "\n",
      "Result of pl_6_data\n",
      "\n",
      "[0.75       0.75       0.66666667 1.         0.33333333]\n",
      "0.7 \n",
      "\n",
      "#################################\n",
      "\n",
      "\n"
     ]
    }
   ],
   "source": [
    "# Looping through all the dataset and find the accuracy aswell as the loss function by using cross validation\n",
    "\n",
    "for clean_data in clean_data_list:\n",
    "  X = clean_data.iloc[:,:6]\n",
    "  y = clean_data.iloc[:,-1]\n",
    "  results=cross_val_score(model,X,y,cv=kfold_validation)\n",
    "  name = namestr(clean_data,globals())\n",
    "  print(f'Result of {name[0]}\\n')\n",
    "  print(results)\n",
    "  print(np.mean(results),'\\n')\n",
    "  print('#################################')\n",
    "  print('\\n')"
   ]
  },
  {
   "cell_type": "markdown",
   "metadata": {},
   "source": [
    "##### From the above k_fold validation we can see that the maximum accuracy we can get by using 5 fold and logistic regression is 0.75 from all the datasets. From this we can infer that either the data is not enough or the model is not suitable since the accuracy is less than 80%"
   ]
  },
  {
   "cell_type": "code",
   "execution_count": 18,
   "metadata": {},
   "outputs": [],
   "source": [
    "# Splitting the data for feature importance analysis\n",
    "\n",
    "X_cm = cm_data.iloc[:,:6]\n",
    "y_cm = cm_data.iloc[:,-1]\n",
    "x_main,x_test,y_main,y_test = train_test_split(X_cm,y_cm,test_size=0.1)\n",
    "x_train,x_valid,y_train,y_valid = train_test_split(x_main,y_main,test_size=0.22)"
   ]
  },
  {
   "cell_type": "code",
   "execution_count": 19,
   "metadata": {},
   "outputs": [
    {
     "data": {
      "text/plain": [
       "0.5217391304347826"
      ]
     },
     "execution_count": 19,
     "metadata": {},
     "output_type": "execute_result"
    }
   ],
   "source": [
    "# Modeling the chrome data and finding the accuracy\n",
    "\n",
    "model_cm = LogisticRegression()\n",
    "model_cm.fit(x_train,y_train)\n",
    "model_cm.score(x_valid,y_valid)"
   ]
  },
  {
   "cell_type": "code",
   "execution_count": 20,
   "metadata": {},
   "outputs": [
    {
     "data": {
      "text/plain": [
       "array([-0.82144882])"
      ]
     },
     "execution_count": 20,
     "metadata": {},
     "output_type": "execute_result"
    }
   ],
   "source": [
    "# Finding the intercept of our regression model\n",
    "\n",
    "model_cm.intercept_"
   ]
  },
  {
   "cell_type": "code",
   "execution_count": 21,
   "metadata": {},
   "outputs": [],
   "source": [
    "# Findig the coeficient lists of our model\n",
    "\n",
    "coefitients_cm = model_cm.coef_"
   ]
  },
  {
   "cell_type": "code",
   "execution_count": 32,
   "metadata": {},
   "outputs": [],
   "source": [
    "# Creating a features dataframe to see the importance\n",
    "\n",
    "features_browser = ['auction_id','experiment','date','hour','device_make','platform_os']\n",
    "features_platform = ['auction_id','experiment','date','hour','device_make','browser']\n",
    "feature_importance_cm_df = pd.DataFrame(features_browser,columns=['Feature'])"
   ]
  },
  {
   "cell_type": "code",
   "execution_count": 29,
   "metadata": {},
   "outputs": [
    {
     "data": {
      "text/html": [
       "<div>\n",
       "<style scoped>\n",
       "    .dataframe tbody tr th:only-of-type {\n",
       "        vertical-align: middle;\n",
       "    }\n",
       "\n",
       "    .dataframe tbody tr th {\n",
       "        vertical-align: top;\n",
       "    }\n",
       "\n",
       "    .dataframe thead th {\n",
       "        text-align: right;\n",
       "    }\n",
       "</style>\n",
       "<table border=\"1\" class=\"dataframe\">\n",
       "  <thead>\n",
       "    <tr style=\"text-align: right;\">\n",
       "      <th></th>\n",
       "      <th>Feature</th>\n",
       "      <th>Feature's importance</th>\n",
       "    </tr>\n",
       "  </thead>\n",
       "  <tbody>\n",
       "    <tr>\n",
       "      <th>5</th>\n",
       "      <td>platform_os</td>\n",
       "      <td>1.058686</td>\n",
       "    </tr>\n",
       "    <tr>\n",
       "      <th>0</th>\n",
       "      <td>auction_id</td>\n",
       "      <td>1.123489</td>\n",
       "    </tr>\n",
       "    <tr>\n",
       "      <th>1</th>\n",
       "      <td>experiment</td>\n",
       "      <td>1.226986</td>\n",
       "    </tr>\n",
       "    <tr>\n",
       "      <th>2</th>\n",
       "      <td>date</td>\n",
       "      <td>2.267197</td>\n",
       "    </tr>\n",
       "    <tr>\n",
       "      <th>4</th>\n",
       "      <td>device_make</td>\n",
       "      <td>1.549137</td>\n",
       "    </tr>\n",
       "    <tr>\n",
       "      <th>3</th>\n",
       "      <td>hour</td>\n",
       "      <td>1.000000</td>\n",
       "    </tr>\n",
       "  </tbody>\n",
       "</table>\n",
       "</div>"
      ],
      "text/plain": [
       "       Feature  Feature's importance\n",
       "5  platform_os              1.058686\n",
       "0   auction_id              1.123489\n",
       "1   experiment              1.226986\n",
       "2         date              2.267197\n",
       "4  device_make              1.549137\n",
       "3         hour              1.000000"
      ]
     },
     "execution_count": 29,
     "metadata": {},
     "output_type": "execute_result"
    }
   ],
   "source": [
    "# Creating a new column for the feature importance\n",
    "\n",
    "feature_importance_cm_df['Feature\\'s importance'] = pow(math.e,np.array(coefitients_cm[0]))\n",
    "feature_importance_cm_df.head(10)"
   ]
  },
  {
   "cell_type": "code",
   "execution_count": 30,
   "metadata": {},
   "outputs": [
    {
     "data": {
      "text/html": [
       "<div>\n",
       "<style scoped>\n",
       "    .dataframe tbody tr th:only-of-type {\n",
       "        vertical-align: middle;\n",
       "    }\n",
       "\n",
       "    .dataframe tbody tr th {\n",
       "        vertical-align: top;\n",
       "    }\n",
       "\n",
       "    .dataframe thead th {\n",
       "        text-align: right;\n",
       "    }\n",
       "</style>\n",
       "<table border=\"1\" class=\"dataframe\">\n",
       "  <thead>\n",
       "    <tr style=\"text-align: right;\">\n",
       "      <th></th>\n",
       "      <th>Feature</th>\n",
       "      <th>Feature's importance</th>\n",
       "    </tr>\n",
       "  </thead>\n",
       "  <tbody>\n",
       "    <tr>\n",
       "      <th>3</th>\n",
       "      <td>hour</td>\n",
       "      <td>1.000000</td>\n",
       "    </tr>\n",
       "    <tr>\n",
       "      <th>5</th>\n",
       "      <td>platform_os</td>\n",
       "      <td>1.058686</td>\n",
       "    </tr>\n",
       "    <tr>\n",
       "      <th>0</th>\n",
       "      <td>auction_id</td>\n",
       "      <td>1.123489</td>\n",
       "    </tr>\n",
       "    <tr>\n",
       "      <th>1</th>\n",
       "      <td>experiment</td>\n",
       "      <td>1.226986</td>\n",
       "    </tr>\n",
       "    <tr>\n",
       "      <th>4</th>\n",
       "      <td>device_make</td>\n",
       "      <td>1.549137</td>\n",
       "    </tr>\n",
       "    <tr>\n",
       "      <th>2</th>\n",
       "      <td>date</td>\n",
       "      <td>2.267197</td>\n",
       "    </tr>\n",
       "  </tbody>\n",
       "</table>\n",
       "</div>"
      ],
      "text/plain": [
       "       Feature  Feature's importance\n",
       "3         hour              1.000000\n",
       "5  platform_os              1.058686\n",
       "0   auction_id              1.123489\n",
       "1   experiment              1.226986\n",
       "4  device_make              1.549137\n",
       "2         date              2.267197"
      ]
     },
     "execution_count": 30,
     "metadata": {},
     "output_type": "execute_result"
    }
   ],
   "source": [
    "# Sorting the table by the feature importance metrics\n",
    "\n",
    "feature_importance_cm_df = feature_importance_cm_df.sort_values(by=\"Feature's importance\")\n",
    "feature_importance_cm_df.head(10)"
   ]
  },
  {
   "cell_type": "code",
   "execution_count": 31,
   "metadata": {},
   "outputs": [
    {
     "data": {
      "text/plain": [
       "Text(0.5, 1.0, 'Feature importance for the chrome dataset')"
      ]
     },
     "execution_count": 31,
     "metadata": {},
     "output_type": "execute_result"
    },
    {
     "data": {
      "image/png": "[encoded data removed]",
      "text/plain": [
       "<Figure size 432x288 with 1 Axes>"
      ]
     },
     "metadata": {
      "needs_background": "light"
     },
     "output_type": "display_data"
    }
   ],
   "source": [
    "# Ploting the feature importance graph for the chrome data\n",
    "\n",
    "feature_importance_cm_df.plot.bar(x='Feature', y=\"Feature's importance\", rot=90)\n",
    "plt.title('Feature importance for the chrome dataset')"
   ]
  },
  {
   "cell_type": "code",
   "execution_count": 33,
   "metadata": {},
   "outputs": [
    {
     "data": {
      "text/plain": [
       "Text(0.5, 1.0, 'Feature importance for the chrome mobile webview dataset')"
      ]
     },
     "execution_count": 33,
     "metadata": {},
     "output_type": "execute_result"
    },
    {
     "data": {
      "image/png": "[encoded data removed]",
      "text/plain": [
       "<Figure size 432x288 with 1 Axes>"
      ]
     },
     "metadata": {
      "needs_background": "light"
     },
     "output_type": "display_data"
    }
   ],
   "source": [
    "# Ploting the feature importance graph for the chrome mobile view data\n",
    "\n",
    "X_cm_w = cm_w_data.iloc[:,:6]\n",
    "y_cm_w = cm_w_data.iloc[:,-1]\n",
    "x_main,x_test,y_main,y_test = train_test_split(X_cm_w,y_cm_w,test_size=0.1)\n",
    "x_train,x_valid,y_train,y_valid = train_test_split(x_main,y_main,test_size=0.22)\n",
    "model_cm_w = LogisticRegression()\n",
    "model_cm_w.fit(x_train,y_train)\n",
    "model_cm_w.score(x_valid,y_valid)\n",
    "coefitients_cm_w = model_cm_w.coef_\n",
    "feature_importance_cm_w_df = pd.DataFrame(features_browser,columns=['Feature'])\n",
    "feature_importance_cm_w_df['Feature\\'s importance'] = pow(math.e,np.array(coefitients_cm_w[0]))\n",
    "feature_importance_cm_w_df.plot.bar(x='Feature', y=\"Feature's importance\", rot=90)\n",
    "plt.title('Feature importance for the chrome mobile webview dataset')"
   ]
  },
  {
   "cell_type": "code",
   "execution_count": 34,
   "metadata": {},
   "outputs": [
    {
     "data": {
      "text/plain": [
       "Text(0.5, 1.0, 'Feature importance for the facebook dataset')"
      ]
     },
     "execution_count": 34,
     "metadata": {},
     "output_type": "execute_result"
    },
    {
     "data": {
      "image/png": "[encoded data removed]",
      "text/plain": [
       "<Figure size 432x288 with 1 Axes>"
      ]
     },
     "metadata": {
      "needs_background": "light"
     },
     "output_type": "display_data"
    }
   ],
   "source": [
    "# Ploting the feature importance graph for the facebook data\n",
    "\n",
    "X_fb = fb_data.iloc[:,:6]\n",
    "y_fb = fb_data.iloc[:,-1]\n",
    "x_main,x_test,y_main,y_test = train_test_split(X_fb,y_fb,test_size=0.1)\n",
    "x_train,x_valid,y_train,y_valid = train_test_split(x_main,y_main,test_size=0.22)\n",
    "model_fb = LogisticRegression()\n",
    "model_fb.fit(x_train,y_train)\n",
    "model_fb.score(x_valid,y_valid)\n",
    "coefitients_fb = model_fb.coef_\n",
    "feature_importance_fb_df = pd.DataFrame(features_browser,columns=['Feature'])\n",
    "feature_importance_fb_df['Feature\\'s importance'] = pow(math.e,np.array(coefitients_fb[0]))\n",
    "feature_importance_fb_df.plot.bar(x='Feature', y=\"Feature's importance\", rot=90)\n",
    "plt.title('Feature importance for the facebook dataset')"
   ]
  },
  {
   "cell_type": "code",
   "execution_count": 35,
   "metadata": {},
   "outputs": [
    {
     "data": {
      "text/plain": [
       "Text(0.5, 1.0, 'Feature importance for the platform 5 dataset')"
      ]
     },
     "execution_count": 35,
     "metadata": {},
     "output_type": "execute_result"
    },
    {
     "data": {
      "image/png": "[encoded data removed]",
      "text/plain": [
       "<Figure size 432x288 with 1 Axes>"
      ]
     },
     "metadata": {
      "needs_background": "light"
     },
     "output_type": "display_data"
    }
   ],
   "source": [
    "# Ploting the feature importance graph for the platform 5 data\n",
    "\n",
    "X_pl_5 = pl_5_data.iloc[:,:6]\n",
    "y_pl_5 = pl_5_data.iloc[:,-1]\n",
    "x_main,x_test,y_main,y_test = train_test_split(X_pl_5,y_pl_5,test_size=0.1)\n",
    "x_train,x_valid,y_train,y_valid = train_test_split(x_main,y_main,test_size=0.22)\n",
    "model_pl_5 = LogisticRegression()\n",
    "model_pl_5.fit(x_train,y_train)\n",
    "model_pl_5.score(x_valid,y_valid)\n",
    "coefitients_pl_5 = model_pl_5.coef_\n",
    "feature_importance_pl_5_df = pd.DataFrame(features_platform,columns=['Feature'])\n",
    "feature_importance_pl_5_df['Feature\\'s importance'] = pow(math.e,np.array(coefitients_pl_5[0]))\n",
    "feature_importance_pl_5_df.plot.bar(x='Feature', y=\"Feature's importance\", rot=90)\n",
    "plt.title('Feature importance for the platform 5 dataset')"
   ]
  },
  {
   "cell_type": "code",
   "execution_count": 36,
   "metadata": {},
   "outputs": [
    {
     "data": {
      "text/plain": [
       "Text(0.5, 1.0, 'Feature importance for the platform 6 dataset')"
      ]
     },
     "execution_count": 36,
     "metadata": {},
     "output_type": "execute_result"
    },
    {
     "data": {
      "image/png": "[encoded data removed]",
      "text/plain": [
       "<Figure size 432x288 with 1 Axes>"
      ]
     },
     "metadata": {
      "needs_background": "light"
     },
     "output_type": "display_data"
    }
   ],
   "source": [
    "# Ploting the feature importance graph for the platform 6 data\n",
    "\n",
    "X_pl_6 = pl_6_data.iloc[:,:6]\n",
    "y_pl_6 = pl_6_data.iloc[:,-1]\n",
    "x_main,x_test,y_main,y_test = train_test_split(X_pl_6,y_pl_6,test_size=0.1)\n",
    "x_train,x_valid,y_train,y_valid = train_test_split(x_main,y_main,test_size=0.22)\n",
    "model_pl_6 = LogisticRegression()\n",
    "model_pl_6.fit(x_train,y_train)\n",
    "model_pl_6.score(x_valid,y_valid)\n",
    "coefitients_pl_6 = model_pl_6.coef_\n",
    "feature_importance_pl_6_df = pd.DataFrame(features_platform,columns=['Feature'])\n",
    "feature_importance_pl_6_df['Feature\\'s importance'] = pow(math.e,np.array(coefitients_pl_6[0]))\n",
    "feature_importance_pl_6_df.plot.bar(x='Feature', y=\"Feature's importance\", rot=90)\n",
    "plt.title('Feature importance for the platform 6 dataset')"
   ]
  }
 ],
 "metadata": {
  "interpreter": {
   "hash": "39075acd572946124b932be27bf9b0f60cbd7d0b32c63cc1adbcac888453a637"
  },
  "kernelspec": {
   "display_name": "Python 3.9.12 ('base')",
   "language": "python",
   "name": "python3"
  },
  "language_info": {
   "codemirror_mode": {
    "name": "ipython",
    "version": 3
   },
   "file_extension": ".py",
   "mimetype": "text/x-python",
   "name": "python",
   "nbconvert_exporter": "python",
   "pygments_lexer": "ipython3",
   "version": "3.9.12"
  },
  "orig_nbformat": 4
 },
 "nbformat": 4,
 "nbformat_minor": 2
}
