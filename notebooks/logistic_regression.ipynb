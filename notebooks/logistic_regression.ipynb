{
 "cells": [
  {
   "cell_type": "code",
   "execution_count": 1,
   "metadata": {},
   "outputs": [],
   "source": [
    "# Importing the usefull libraries\n",
    "\n",
    "import pandas as pd\n",
    "import numpy as np\n",
    "import math\n",
    "import matplotlib.pyplot as plt\n",
    "from sklearn.model_selection import train_test_split\n",
    "from sklearn.preprocessing import StandardScaler, LabelEncoder\n",
    "from sklearn.metrics import accuracy_score, confusion_matrix\n",
    "from sklearn.pipeline import Pipeline\n",
    "from sklearn.linear_model import LogisticRegression\n",
    "from sklearn.preprocessing import FunctionTransformer\n",
    "from sklearn.model_selection import KFold\n",
    "from sklearn.model_selection import cross_val_score,train_test_split\n",
    "from sklearn.metrics import mean_squared_error,mean_absolute_error, r2_score\n",
    "import warnings\n",
    "warnings.filterwarnings('ignore')\n",
    "import sys\n",
    "sys.path.insert(1, \"../scripts\")\n",
    "from ml_processors import ML_Processor as MLP\n",
    "from models import ML_Models\n",
    "\n",
    "mlp = MLP()\n",
    "mlm = ML_Models()\n"
   ]
  },
  {
   "cell_type": "code",
   "execution_count": 2,
   "metadata": {},
   "outputs": [],
   "source": [
    "# Reading and assigning a variable to the respective datasets\n",
    "\n",
    "cm_data =  pd.read_csv('../data/chrome_data.csv')\n",
    "cm_w_data =  pd.read_csv('../data/chrome_mobile_webview_data.csv')\n",
    "fb_data =  pd.read_csv('../data/facebook_data.csv')\n",
    "pl_5_data =  pd.read_csv('../data/platform_5.csv')\n",
    "pl_6_data =  pd.read_csv('../data/platform_6.csv')\n"
   ]
  },
  {
   "cell_type": "code",
   "execution_count": 3,
   "metadata": {},
   "outputs": [],
   "source": [
    "\n",
    "# separating categorical and numerical variables\n",
    "\n",
    "cat2, num2 = mlp.sep_cat_num(cm_data)\n",
    "cat3, num3 = mlp.sep_cat_num(cm_w_data)\n",
    "cat4, num4 = mlp.sep_cat_num(fb_data)\n",
    "cat5, num5 = mlp.sep_cat_num(pl_5_data)\n",
    "cat6, num6 = mlp.sep_cat_num(pl_6_data)"
   ]
  },
  {
   "cell_type": "code",
   "execution_count": 4,
   "metadata": {},
   "outputs": [
    {
     "data": {
      "text/html": [
       "<div>\n",
       "<style scoped>\n",
       "    .dataframe tbody tr th:only-of-type {\n",
       "        vertical-align: middle;\n",
       "    }\n",
       "\n",
       "    .dataframe tbody tr th {\n",
       "        vertical-align: top;\n",
       "    }\n",
       "\n",
       "    .dataframe thead th {\n",
       "        text-align: right;\n",
       "    }\n",
       "</style>\n",
       "<table border=\"1\" class=\"dataframe\">\n",
       "  <thead>\n",
       "    <tr style=\"text-align: right;\">\n",
       "      <th></th>\n",
       "      <th>auction_id</th>\n",
       "      <th>experiment</th>\n",
       "      <th>date</th>\n",
       "      <th>device_make</th>\n",
       "    </tr>\n",
       "  </thead>\n",
       "  <tbody>\n",
       "    <tr>\n",
       "      <th>count</th>\n",
       "      <td>695</td>\n",
       "      <td>695</td>\n",
       "      <td>695</td>\n",
       "      <td>695</td>\n",
       "    </tr>\n",
       "    <tr>\n",
       "      <th>unique</th>\n",
       "      <td>695</td>\n",
       "      <td>2</td>\n",
       "      <td>8</td>\n",
       "      <td>14</td>\n",
       "    </tr>\n",
       "    <tr>\n",
       "      <th>top</th>\n",
       "      <td>008aafdf-deef-4482-8fec-d98e3da054da</td>\n",
       "      <td>exposed</td>\n",
       "      <td>2020-07-03</td>\n",
       "      <td>Generic Smartphone</td>\n",
       "    </tr>\n",
       "    <tr>\n",
       "      <th>freq</th>\n",
       "      <td>1</td>\n",
       "      <td>371</td>\n",
       "      <td>176</td>\n",
       "      <td>665</td>\n",
       "    </tr>\n",
       "  </tbody>\n",
       "</table>\n",
       "</div>"
      ],
      "text/plain": [
       "                                  auction_id experiment        date  \\\n",
       "count                                    695        695         695   \n",
       "unique                                   695          2           8   \n",
       "top     008aafdf-deef-4482-8fec-d98e3da054da    exposed  2020-07-03   \n",
       "freq                                       1        371         176   \n",
       "\n",
       "               device_make  \n",
       "count                  695  \n",
       "unique                  14  \n",
       "top     Generic Smartphone  \n",
       "freq                   665  "
      ]
     },
     "execution_count": 4,
     "metadata": {},
     "output_type": "execute_result"
    }
   ],
   "source": [
    "# Describing the catagorical variables \n",
    "\n",
    "cm_data[cat2].describe()"
   ]
  },
  {
   "cell_type": "code",
   "execution_count": 5,
   "metadata": {},
   "outputs": [
    {
     "name": "stdout",
     "output_type": "stream",
     "text": [
      "catagories successfully labeled\n",
      "Data successfully scaled\n",
      "target and features separated\n",
      "data successfully splitted\n",
      "catagories successfully labeled\n",
      "Data successfully scaled\n",
      "target and features separated\n",
      "data successfully splitted\n",
      "catagories successfully labeled\n",
      "Data successfully scaled\n",
      "target and features separated\n",
      "data successfully splitted\n",
      "catagories successfully labeled\n",
      "Data successfully scaled\n",
      "target and features separated\n",
      "data successfully splitted\n",
      "catagories successfully labeled\n",
      "Data successfully scaled\n",
      "target and features separated\n",
      "data successfully splitted\n"
     ]
    }
   ],
   "source": [
    "# Using pipeline for the Machine learning\n",
    "\n",
    "def processor_pipe(categories):\n",
    "    pipe_1 = Pipeline(\n",
    "        steps=[\n",
    "            (\"label categories\", FunctionTransformer(mlp.cat_labeler, kw_args={\"cat_cols\": categories})),\n",
    "            (\"scale data\", FunctionTransformer(mlp.scaler)),\n",
    "            (\"separate target and features\", FunctionTransformer(mlp.target_feature, kw_args={\"f_r\": [0, 6], \"t\":-1})),\n",
    "            (\"divide dataset\", FunctionTransformer(mlp.set_splitter, kw_args={\"test\": 0.1, \"val\":0.2, \"rand_state\":8})),      \n",
    "            ])\n",
    "    return pipe_1\n",
    "\n",
    "pipe_1 = processor_pipe(cat2)\n",
    "pipe_2 = processor_pipe(cat5)\n",
    "\n",
    "chrome_set = pipe_1.fit_transform(cm_data)"
   ]
  },
  {
   "cell_type": "code",
   "execution_count": null,
   "metadata": {},
   "outputs": [],
   "source": [
    "\n",
    "chrome_mobile_set = pipe_1.fit_transform(cm_w_data)"
   ]
  },
  {
   "cell_type": "code",
   "execution_count": null,
   "metadata": {},
   "outputs": [],
   "source": [
    "\n",
    "facebook_set = pipe_1.fit_transform(fb_data)"
   ]
  },
  {
   "cell_type": "code",
   "execution_count": null,
   "metadata": {},
   "outputs": [],
   "source": [
    "\n",
    "platform_5_set = pipe_2.fit_transform(pl_5_data)"
   ]
  },
  {
   "cell_type": "code",
   "execution_count": null,
   "metadata": {},
   "outputs": [],
   "source": [
    "\n",
    "platform_6_set = pipe_2.fit_transform(pl_6_data)"
   ]
  },
  {
   "cell_type": "markdown",
   "metadata": {},
   "source": [
    "##### From the above k_fold validation we can see that the maximum accuracy we can get by using 5 fold and logistic regression is 0.75 from all the datasets. From this we can infer that either the data is not enough or the model is not suitable since the accuracy is less than 80%"
   ]
  },
  {
   "cell_type": "code",
   "execution_count": null,
   "metadata": {},
   "outputs": [],
   "source": [
    "model = mlm.regression_model(chrome_set[0], chrome_set[1]) # for chrome \n",
    "model2 = mlm.regression_model(chrome_mobile_set[0], chrome_mobile_set[1]) \n",
    "model3 = mlm.regression_model(facebook_set[0], facebook_set[1]) \n",
    "model4 = mlm.regression_model(platform_6_set[0], platform_6_set[1]) \n",
    "model5 = mlm.regression_model(platform_6_set[0], platform_6_set[1]) "
   ]
  },
  {
   "cell_type": "code",
   "execution_count": 17,
   "metadata": {},
   "outputs": [
    {
     "data": {
      "text/plain": [
       "0.4927536231884058"
      ]
     },
     "execution_count": 17,
     "metadata": {},
     "output_type": "execute_result"
    }
   ],
   "source": [
    "# Modeling the chrome data and finding the accuracy\n",
    "\n",
    "model_cm = LogisticRegression()\n",
    "model_cm.fit(x_train,y_train)\n",
    "model_cm.score(x_valid,y_valid)"
   ]
  },
  {
   "cell_type": "code",
   "execution_count": 18,
   "metadata": {},
   "outputs": [
    {
     "data": {
      "text/plain": [
       "array([-0.8048858])"
      ]
     },
     "execution_count": 18,
     "metadata": {},
     "output_type": "execute_result"
    }
   ],
   "source": [
    "# Finding the intercept of our regression model\n",
    "\n",
    "model_cm.intercept_"
   ]
  },
  {
   "cell_type": "code",
   "execution_count": 19,
   "metadata": {},
   "outputs": [],
   "source": [
    "# Findig the coeficient lists of our model\n",
    "\n",
    "coefitients_cm = model_cm.coef_"
   ]
  },
  {
   "cell_type": "code",
   "execution_count": 20,
   "metadata": {},
   "outputs": [],
   "source": [
    "# Creating a features dataframe to see the importance\n",
    "\n",
    "features_browser = ['auction_id','experiment','date','hour','device_make','platform_os']\n",
    "features_platform = ['auction_id','experiment','date','hour','device_make','browser']\n",
    "feature_importance_cm_df = pd.DataFrame(features_browser,columns=['Feature'])"
   ]
  },
  {
   "cell_type": "code",
   "execution_count": 21,
   "metadata": {},
   "outputs": [
    {
     "data": {
      "text/html": [
       "<div>\n",
       "<style scoped>\n",
       "    .dataframe tbody tr th:only-of-type {\n",
       "        vertical-align: middle;\n",
       "    }\n",
       "\n",
       "    .dataframe tbody tr th {\n",
       "        vertical-align: top;\n",
       "    }\n",
       "\n",
       "    .dataframe thead th {\n",
       "        text-align: right;\n",
       "    }\n",
       "</style>\n",
       "<table border=\"1\" class=\"dataframe\">\n",
       "  <thead>\n",
       "    <tr style=\"text-align: right;\">\n",
       "      <th></th>\n",
       "      <th>Feature</th>\n",
       "      <th>Feature's importance</th>\n",
       "    </tr>\n",
       "  </thead>\n",
       "  <tbody>\n",
       "    <tr>\n",
       "      <th>0</th>\n",
       "      <td>auction_id</td>\n",
       "      <td>1.003339</td>\n",
       "    </tr>\n",
       "    <tr>\n",
       "      <th>1</th>\n",
       "      <td>experiment</td>\n",
       "      <td>1.221540</td>\n",
       "    </tr>\n",
       "    <tr>\n",
       "      <th>2</th>\n",
       "      <td>date</td>\n",
       "      <td>0.904415</td>\n",
       "    </tr>\n",
       "    <tr>\n",
       "      <th>3</th>\n",
       "      <td>hour</td>\n",
       "      <td>1.952237</td>\n",
       "    </tr>\n",
       "    <tr>\n",
       "      <th>4</th>\n",
       "      <td>device_make</td>\n",
       "      <td>2.210325</td>\n",
       "    </tr>\n",
       "    <tr>\n",
       "      <th>5</th>\n",
       "      <td>platform_os</td>\n",
       "      <td>1.000000</td>\n",
       "    </tr>\n",
       "  </tbody>\n",
       "</table>\n",
       "</div>"
      ],
      "text/plain": [
       "       Feature  Feature's importance\n",
       "0   auction_id              1.003339\n",
       "1   experiment              1.221540\n",
       "2         date              0.904415\n",
       "3         hour              1.952237\n",
       "4  device_make              2.210325\n",
       "5  platform_os              1.000000"
      ]
     },
     "execution_count": 21,
     "metadata": {},
     "output_type": "execute_result"
    }
   ],
   "source": [
    "# Creating a new column for the feature importance\n",
    "\n",
    "feature_importance_cm_df['Feature\\'s importance'] = pow(math.e,np.array(coefitients_cm[0]))\n",
    "feature_importance_cm_df.head(10)"
   ]
  },
  {
   "cell_type": "code",
   "execution_count": 22,
   "metadata": {},
   "outputs": [
    {
     "data": {
      "text/html": [
       "<div>\n",
       "<style scoped>\n",
       "    .dataframe tbody tr th:only-of-type {\n",
       "        vertical-align: middle;\n",
       "    }\n",
       "\n",
       "    .dataframe tbody tr th {\n",
       "        vertical-align: top;\n",
       "    }\n",
       "\n",
       "    .dataframe thead th {\n",
       "        text-align: right;\n",
       "    }\n",
       "</style>\n",
       "<table border=\"1\" class=\"dataframe\">\n",
       "  <thead>\n",
       "    <tr style=\"text-align: right;\">\n",
       "      <th></th>\n",
       "      <th>Feature</th>\n",
       "      <th>Feature's importance</th>\n",
       "    </tr>\n",
       "  </thead>\n",
       "  <tbody>\n",
       "    <tr>\n",
       "      <th>2</th>\n",
       "      <td>date</td>\n",
       "      <td>0.904415</td>\n",
       "    </tr>\n",
       "    <tr>\n",
       "      <th>5</th>\n",
       "      <td>platform_os</td>\n",
       "      <td>1.000000</td>\n",
       "    </tr>\n",
       "    <tr>\n",
       "      <th>0</th>\n",
       "      <td>auction_id</td>\n",
       "      <td>1.003339</td>\n",
       "    </tr>\n",
       "    <tr>\n",
       "      <th>1</th>\n",
       "      <td>experiment</td>\n",
       "      <td>1.221540</td>\n",
       "    </tr>\n",
       "    <tr>\n",
       "      <th>3</th>\n",
       "      <td>hour</td>\n",
       "      <td>1.952237</td>\n",
       "    </tr>\n",
       "    <tr>\n",
       "      <th>4</th>\n",
       "      <td>device_make</td>\n",
       "      <td>2.210325</td>\n",
       "    </tr>\n",
       "  </tbody>\n",
       "</table>\n",
       "</div>"
      ],
      "text/plain": [
       "       Feature  Feature's importance\n",
       "2         date              0.904415\n",
       "5  platform_os              1.000000\n",
       "0   auction_id              1.003339\n",
       "1   experiment              1.221540\n",
       "3         hour              1.952237\n",
       "4  device_make              2.210325"
      ]
     },
     "execution_count": 22,
     "metadata": {},
     "output_type": "execute_result"
    }
   ],
   "source": [
    "# Sorting the table by the feature importance metrics\n",
    "\n",
    "feature_importance_cm_df = feature_importance_cm_df.sort_values(by=\"Feature's importance\")\n",
    "feature_importance_cm_df.head(10)"
   ]
  },
  {
   "cell_type": "code",
   "execution_count": 23,
   "metadata": {},
   "outputs": [
    {
     "data": {
      "text/plain": [
       "Text(0.5, 1.0, 'Feature importance for the chrome dataset')"
      ]
     },
     "execution_count": 23,
     "metadata": {},
     "output_type": "execute_result"
    },
    {
     "data": {
      "image/png": "[encoded data removed]",
      "text/plain": [
       "<Figure size 432x288 with 1 Axes>"
      ]
     },
     "metadata": {
      "needs_background": "light"
     },
     "output_type": "display_data"
    }
   ],
   "source": [
    "# Ploting the feature importance graph for the chrome data\n",
    "\n",
    "feature_importance_cm_df.plot.bar(x='Feature', y=\"Feature's importance\", rot=90)\n",
    "plt.title('Feature importance for the chrome dataset')"
   ]
  },
  {
   "cell_type": "code",
   "execution_count": 24,
   "metadata": {},
   "outputs": [
    {
     "name": "stdout",
     "output_type": "stream",
     "text": [
      "The model accuracy is:  0.5652173913043478\n"
     ]
    },
    {
     "data": {
      "image/png": "[encoded data removed]",
      "text/plain": [
       "<Figure size 432x288 with 1 Axes>"
      ]
     },
     "metadata": {
      "needs_background": "light"
     },
     "output_type": "display_data"
    }
   ],
   "source": [
    "# Ploting the feature importance graph for the chrome mobile view data\n",
    "\n",
    "X_cm_w = cm_w_data.iloc[:,:6]\n",
    "y_cm_w = cm_w_data.iloc[:,-1]\n",
    "x_main,x_test,y_main,y_test = train_test_split(X_cm_w,y_cm_w,test_size=0.1)\n",
    "x_train,x_valid,y_train,y_valid = train_test_split(x_main,y_main,test_size=0.22)\n",
    "model_cm_w = LogisticRegression()\n",
    "model_cm_w.fit(x_train,y_train)\n",
    "model_cm_w.score(x_valid,y_valid)\n",
    "\n",
    "\n",
    "\n",
    "mlm.evaluate_model(model_cm_w, cm_data, x_test, y_test, \"Linear Regression\", globals())"
   ]
  },
  {
   "cell_type": "code",
   "execution_count": 25,
   "metadata": {},
   "outputs": [
    {
     "data": {
      "text/plain": [
       "Text(0.5, 1.0, 'Feature importance for the facebook dataset')"
      ]
     },
     "execution_count": 25,
     "metadata": {},
     "output_type": "execute_result"
    },
    {
     "data": {
      "image/png": "[encoded data removed]",
      "text/plain": [
       "<Figure size 432x288 with 1 Axes>"
      ]
     },
     "metadata": {
      "needs_background": "light"
     },
     "output_type": "display_data"
    }
   ],
   "source": [
    "# Ploting the feature importance graph for the facebook data\n",
    "\n",
    "X_fb = fb_data.iloc[:,:6]\n",
    "y_fb = fb_data.iloc[:,-1]\n",
    "x_main,x_test,y_main,y_test = train_test_split(X_fb,y_fb,test_size=0.1)\n",
    "x_train,x_valid,y_train,y_valid = train_test_split(x_main,y_main,test_size=0.22)\n",
    "model_fb = LogisticRegression()\n",
    "model_fb.fit(x_train,y_train)\n",
    "model_fb.score(x_valid,y_valid)\n",
    "coefitients_fb = model_fb.coef_\n",
    "feature_importance_fb_df = pd.DataFrame(features_browser,columns=['Feature'])\n",
    "feature_importance_fb_df['Feature\\'s importance'] = pow(math.e,np.array(coefitients_fb[0]))\n",
    "feature_importance_fb_df.plot.bar(x='Feature', y=\"Feature's importance\", rot=90)\n",
    "plt.title('Feature importance for the facebook dataset')"
   ]
  },
  {
   "cell_type": "code",
   "execution_count": 26,
   "metadata": {},
   "outputs": [
    {
     "data": {
      "text/plain": [
       "Text(0.5, 1.0, 'Feature importance for the platform 5 dataset')"
      ]
     },
     "execution_count": 26,
     "metadata": {},
     "output_type": "execute_result"
    },
    {
     "data": {
      "image/png": "[encoded data removed]",
      "text/plain": [
       "<Figure size 432x288 with 1 Axes>"
      ]
     },
     "metadata": {
      "needs_background": "light"
     },
     "output_type": "display_data"
    }
   ],
   "source": [
    "# Ploting the feature importance graph for the platform 5 data\n",
    "\n",
    "X_pl_5 = pl_5_data.iloc[:,:6]\n",
    "y_pl_5 = pl_5_data.iloc[:,-1]\n",
    "x_main,x_test,y_main,y_test = train_test_split(X_pl_5,y_pl_5,test_size=0.1)\n",
    "x_train,x_valid,y_train,y_valid = train_test_split(x_main,y_main,test_size=0.22)\n",
    "model_pl_5 = LogisticRegression()\n",
    "model_pl_5.fit(x_train,y_train)\n",
    "model_pl_5.score(x_valid,y_valid)\n",
    "coefitients_pl_5 = model_pl_5.coef_\n",
    "feature_importance_pl_5_df = pd.DataFrame(features_platform,columns=['Feature'])\n",
    "feature_importance_pl_5_df['Feature\\'s importance'] = pow(math.e,np.array(coefitients_pl_5[0]))\n",
    "feature_importance_pl_5_df.plot.bar(x='Feature', y=\"Feature's importance\", rot=90)\n",
    "plt.title('Feature importance for the platform 5 dataset')"
   ]
  },
  {
   "cell_type": "code",
   "execution_count": 27,
   "metadata": {},
   "outputs": [
    {
     "data": {
      "text/plain": [
       "Text(0.5, 1.0, 'Feature importance for the platform 6 dataset')"
      ]
     },
     "execution_count": 27,
     "metadata": {},
     "output_type": "execute_result"
    },
    {
     "data": {
      "image/png": "[encoded data removed]",
      "text/plain": [
       "<Figure size 432x288 with 1 Axes>"
      ]
     },
     "metadata": {
      "needs_background": "light"
     },
     "output_type": "display_data"
    }
   ],
   "source": [
    "# Ploting the feature importance graph for the platform 6 data\n",
    "\n",
    "X_pl_6 = pl_6_data.iloc[:,:6]\n",
    "y_pl_6 = pl_6_data.iloc[:,-1]\n",
    "x_main,x_test,y_main,y_test = train_test_split(X_pl_6,y_pl_6,test_size=0.1)\n",
    "x_train,x_valid,y_train,y_valid = train_test_split(x_main,y_main,test_size=0.22)\n",
    "model_pl_6 = LogisticRegression()\n",
    "model_pl_6.fit(x_train,y_train)\n",
    "model_pl_6.score(x_valid,y_valid)\n",
    "coefitients_pl_6 = model_pl_6.coef_\n",
    "feature_importance_pl_6_df = pd.DataFrame(features_platform,columns=['Feature'])\n",
    "feature_importance_pl_6_df['Feature\\'s importance'] = pow(math.e,np.array(coefitients_pl_6[0]))\n",
    "feature_importance_pl_6_df.plot.bar(x='Feature', y=\"Feature's importance\", rot=90)\n",
    "plt.title('Feature importance for the platform 6 dataset')"
   ]
  }
 ],
 "metadata": {
  "interpreter": {
   "hash": "2b997b5b8794c030e25a28be498e8226ee8897df85ede9190db777bdc9cc75be"
  },
  "kernelspec": {
   "display_name": "Python 3.9.7 ('base')",
   "language": "python",
   "name": "python3"
  },
  "language_info": {
   "codemirror_mode": {
    "name": "ipython",
    "version": 3
   },
   "file_extension": ".py",
   "mimetype": "text/x-python",
   "name": "python",
   "nbconvert_exporter": "python",
   "pygments_lexer": "ipython3",
   "version": "3.9.7"
  },
  "orig_nbformat": 4
 },
 "nbformat": 4,
 "nbformat_minor": 2
}
