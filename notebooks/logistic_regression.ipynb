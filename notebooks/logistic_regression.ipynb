{
 "cells": [
  {
   "cell_type": "code",
   "execution_count": 32,
   "metadata": {},
   "outputs": [],
   "source": [
    "import pandas as pd\n",
    "import numpy as np\n",
    "import math\n",
    "import matplotlib.pyplot as plt\n",
    "from sklearn.model_selection import train_test_split\n",
    "from sklearn.preprocessing import StandardScaler, LabelEncoder\n",
    "from sklearn.metrics import accuracy_score, confusion_matrix\n",
    "from sklearn.pipeline import Pipeline\n",
    "from sklearn.linear_model import LogisticRegression\n",
    "from sklearn.preprocessing import FunctionTransformer\n",
    "from sklearn.model_selection import KFold\n",
    "from sklearn.model_selection import cross_val_score,train_test_split\n",
    "from sklearn.metrics import mean_squared_error,mean_absolute_error, r2_score\n",
    "\n",
    "import sys\n",
    "sys.path.insert(1, \"../scripts\")\n",
    "from ml_processors import ML_Processor as MLP\n",
    "\n",
    "mlp = MLP()\n"
   ]
  },
  {
   "cell_type": "code",
   "execution_count": 2,
   "metadata": {},
   "outputs": [],
   "source": [
    "cm_data =  pd.read_csv('../data/chrome_data.csv')\n",
    "cm_w_data =  pd.read_csv('../data/chrome_mobile_webview_data.csv')\n",
    "fb_data =  pd.read_csv('../data/facebook_data.csv')\n",
    "pl_5_data =  pd.read_csv('../data/platform_5.csv')\n",
    "pl_6_data =  pd.read_csv('../data/platform_6.csv')\n"
   ]
  },
  {
   "cell_type": "code",
   "execution_count": 3,
   "metadata": {},
   "outputs": [
    {
     "data": {
      "text/html": [
       "<div>\n",
       "<style scoped>\n",
       "    .dataframe tbody tr th:only-of-type {\n",
       "        vertical-align: middle;\n",
       "    }\n",
       "\n",
       "    .dataframe tbody tr th {\n",
       "        vertical-align: top;\n",
       "    }\n",
       "\n",
       "    .dataframe thead th {\n",
       "        text-align: right;\n",
       "    }\n",
       "</style>\n",
       "<table border=\"1\" class=\"dataframe\">\n",
       "  <thead>\n",
       "    <tr style=\"text-align: right;\">\n",
       "      <th></th>\n",
       "      <th>auction_id</th>\n",
       "      <th>experiment</th>\n",
       "      <th>date</th>\n",
       "      <th>hour</th>\n",
       "      <th>device_make</th>\n",
       "      <th>platform_os</th>\n",
       "      <th>browser</th>\n",
       "      <th>yes</th>\n",
       "      <th>no</th>\n",
       "    </tr>\n",
       "  </thead>\n",
       "  <tbody>\n",
       "    <tr>\n",
       "      <th>0</th>\n",
       "      <td>23b2028c-72ed-43b3-a2d7-d772b2d4d478</td>\n",
       "      <td>exposed</td>\n",
       "      <td>2020-07-03</td>\n",
       "      <td>8</td>\n",
       "      <td>iPhone</td>\n",
       "      <td>5</td>\n",
       "      <td>Mobile Safari</td>\n",
       "      <td>0</td>\n",
       "      <td>1</td>\n",
       "    </tr>\n",
       "    <tr>\n",
       "      <th>1</th>\n",
       "      <td>54a62f37-0c4d-4300-a063-1c6aa99244e5</td>\n",
       "      <td>control</td>\n",
       "      <td>2020-07-03</td>\n",
       "      <td>15</td>\n",
       "      <td>iPhone</td>\n",
       "      <td>5</td>\n",
       "      <td>Mobile Safari</td>\n",
       "      <td>0</td>\n",
       "      <td>1</td>\n",
       "    </tr>\n",
       "  </tbody>\n",
       "</table>\n",
       "</div>"
      ],
      "text/plain": [
       "                             auction_id experiment        date  hour  \\\n",
       "0  23b2028c-72ed-43b3-a2d7-d772b2d4d478    exposed  2020-07-03     8   \n",
       "1  54a62f37-0c4d-4300-a063-1c6aa99244e5    control  2020-07-03    15   \n",
       "\n",
       "  device_make  platform_os        browser  yes  no  \n",
       "0      iPhone            5  Mobile Safari    0   1  \n",
       "1      iPhone            5  Mobile Safari    0   1  "
      ]
     },
     "execution_count": 3,
     "metadata": {},
     "output_type": "execute_result"
    }
   ],
   "source": [
    "pl_5_data.head(2)"
   ]
  },
  {
   "cell_type": "code",
   "execution_count": 4,
   "metadata": {},
   "outputs": [],
   "source": [
    "columns_to_be_dropped = ['no','SAID_YES']\n",
    "cm_data_clean = cm_data.drop(columns_to_be_dropped,axis=1)\n",
    "cm_w_data_clean = cm_w_data.drop(columns_to_be_dropped,axis=1)\n",
    "fb_data_clean = fb_data.drop(columns_to_be_dropped,axis=1)\n",
    "pl_5_data_clean =pl_5_data.drop(columns_to_be_dropped[0],axis=1)\n",
    "pl_6_data_clean = pl_6_data.drop(columns_to_be_dropped[0],axis=1)\n"
   ]
  },
  {
   "cell_type": "code",
   "execution_count": 5,
   "metadata": {},
   "outputs": [
    {
     "name": "stdout",
     "output_type": "stream",
     "text": [
      "Numerical Columns: ['auction_id', 'experiment', 'date', 'device_make', 'browser']\n",
      "****************\n",
      "Categorical Columns: ['hour', 'yes']\n"
     ]
    }
   ],
   "source": [
    "cat, num = mlp.sep_cat_num(cm_data_clean)\n",
    "print(\"Numerical Columns:\", cat)\n",
    "print(\"****************\")\n",
    "print(\"Categorical Columns:\", num)"
   ]
  },
  {
   "cell_type": "code",
   "execution_count": 6,
   "metadata": {},
   "outputs": [
    {
     "data": {
      "text/html": [
       "<div>\n",
       "<style scoped>\n",
       "    .dataframe tbody tr th:only-of-type {\n",
       "        vertical-align: middle;\n",
       "    }\n",
       "\n",
       "    .dataframe tbody tr th {\n",
       "        vertical-align: top;\n",
       "    }\n",
       "\n",
       "    .dataframe thead th {\n",
       "        text-align: right;\n",
       "    }\n",
       "</style>\n",
       "<table border=\"1\" class=\"dataframe\">\n",
       "  <thead>\n",
       "    <tr style=\"text-align: right;\">\n",
       "      <th></th>\n",
       "      <th>auction_id</th>\n",
       "      <th>experiment</th>\n",
       "      <th>date</th>\n",
       "      <th>device_make</th>\n",
       "      <th>browser</th>\n",
       "    </tr>\n",
       "  </thead>\n",
       "  <tbody>\n",
       "    <tr>\n",
       "      <th>count</th>\n",
       "      <td>695</td>\n",
       "      <td>695</td>\n",
       "      <td>695</td>\n",
       "      <td>695</td>\n",
       "      <td>695</td>\n",
       "    </tr>\n",
       "    <tr>\n",
       "      <th>unique</th>\n",
       "      <td>695</td>\n",
       "      <td>2</td>\n",
       "      <td>8</td>\n",
       "      <td>14</td>\n",
       "      <td>1</td>\n",
       "    </tr>\n",
       "    <tr>\n",
       "      <th>top</th>\n",
       "      <td>008aafdf-deef-4482-8fec-d98e3da054da</td>\n",
       "      <td>exposed</td>\n",
       "      <td>2020-07-03</td>\n",
       "      <td>Generic Smartphone</td>\n",
       "      <td>Chrome Mobile</td>\n",
       "    </tr>\n",
       "    <tr>\n",
       "      <th>freq</th>\n",
       "      <td>1</td>\n",
       "      <td>371</td>\n",
       "      <td>176</td>\n",
       "      <td>665</td>\n",
       "      <td>695</td>\n",
       "    </tr>\n",
       "  </tbody>\n",
       "</table>\n",
       "</div>"
      ],
      "text/plain": [
       "                                  auction_id experiment        date  \\\n",
       "count                                    695        695         695   \n",
       "unique                                   695          2           8   \n",
       "top     008aafdf-deef-4482-8fec-d98e3da054da    exposed  2020-07-03   \n",
       "freq                                       1        371         176   \n",
       "\n",
       "               device_make        browser  \n",
       "count                  695            695  \n",
       "unique                  14              1  \n",
       "top     Generic Smartphone  Chrome Mobile  \n",
       "freq                   665            695  "
      ]
     },
     "execution_count": 6,
     "metadata": {},
     "output_type": "execute_result"
    }
   ],
   "source": [
    "cm_data_clean[cat].describe()"
   ]
  },
  {
   "cell_type": "code",
   "execution_count": 7,
   "metadata": {},
   "outputs": [
    {
     "name": "stdout",
     "output_type": "stream",
     "text": [
      "cat_labeler output...\n",
      "\n",
      "   auction_id  experiment  date  hour  device_make  browser  yes\n",
      "0           0           1     1    16            1        0    1\n",
      "1           1           1     3     8            1        0    0\n",
      "\n",
      "\n",
      "scaler output... \n",
      "\n",
      "   auction_id  experiment      date      hour  device_make  browser  yes\n",
      "0    0.000000         1.0  0.142857  0.695652     0.076923      0.0  1.0\n",
      "1    0.001441         1.0  0.428571  0.347826     0.076923      0.0  0.0\n",
      "\n",
      "\n",
      "target_features output... \n",
      "\n",
      "features size: (695, 6)\n",
      "\n",
      "\n",
      "set_splitter output... \n",
      "\n",
      "X_train shape: (512, 6)\n",
      "y_train shape: (512,)\n",
      "x_test shape: (70, 6)\n",
      "y_test shape: (70,)\n",
      "X_val shape: (113, 6)\n",
      "y_val shape: (113,)\n",
      "cat_labeler output...\n",
      "\n",
      "   auction_id  experiment  date  hour  device_make  browser  yes\n",
      "0           0           1     2     2            3        0    0\n",
      "1           1           1     2     6           11        0    0\n",
      "\n",
      "\n",
      "scaler output... \n",
      "\n",
      "   auction_id  experiment      date      hour  device_make  browser  yes\n",
      "0    0.000000         1.0  0.285714  0.090909     0.038462      0.0  0.0\n",
      "1    0.004425         1.0  0.285714  0.272727     0.141026      0.0  0.0\n",
      "\n",
      "\n",
      "target_features output... \n",
      "\n",
      "features size: (227, 6)\n",
      "\n",
      "\n",
      "set_splitter output... \n",
      "\n",
      "X_train shape: (167, 6)\n",
      "y_train shape: (167,)\n",
      "x_test shape: (23, 6)\n",
      "y_test shape: (23,)\n",
      "X_val shape: (37, 6)\n",
      "y_val shape: (37,)\n",
      "cat_labeler output...\n",
      "\n",
      "   auction_id  experiment  date  hour  device_make  browser  yes\n",
      "0           0           0     5     4           23        0    1\n",
      "1           1           0     0    15           12        0    0\n",
      "\n",
      "\n",
      "scaler output... \n",
      "\n",
      "   auction_id  experiment      date      hour  device_make  browser  yes\n",
      "0    0.000000         0.0  0.714286  0.173913     0.370968      0.0  1.0\n",
      "1    0.006452         0.0  0.000000  0.652174     0.193548      0.0  0.0\n",
      "\n",
      "\n",
      "target_features output... \n",
      "\n",
      "features size: (156, 6)\n",
      "\n",
      "\n",
      "set_splitter output... \n",
      "\n",
      "X_train shape: (114, 6)\n",
      "y_train shape: (114,)\n",
      "x_test shape: (16, 6)\n",
      "y_test shape: (16,)\n",
      "X_val shape: (26, 6)\n",
      "y_val shape: (26,)\n",
      "cat_labeler output...\n",
      "\n",
      "   auction_id  experiment  date  hour  device_make  platform_os  browser  yes\n",
      "0           0           1     0     8            0            5        1    0\n",
      "1           1           0     0    15            0            5        1    0\n",
      "\n",
      "\n",
      "scaler output... \n",
      "\n",
      "   auction_id  experiment  date    hour  device_make  platform_os  browser  \\\n",
      "0      0.0000         1.0   0.0  0.4375          0.0          0.0      0.5   \n",
      "1      0.0625         0.0   0.0  0.8750          0.0          0.0      0.5   \n",
      "\n",
      "   yes  \n",
      "0  0.0  \n",
      "1  0.0  \n",
      "\n",
      "\n",
      "target_features output... \n",
      "\n",
      "features size: (17, 6)\n",
      "\n",
      "\n",
      "set_splitter output... \n",
      "\n",
      "X_train shape: (12, 6)\n",
      "y_train shape: (12,)\n",
      "x_test shape: (2, 6)\n",
      "y_test shape: (2,)\n",
      "X_val shape: (3, 6)\n",
      "y_val shape: (3,)\n",
      "cat_labeler output...\n",
      "\n",
      "   auction_id  experiment  date  hour  device_make  platform_os  browser  yes\n",
      "0           0           1     2     2            4            6        2    0\n",
      "1           1           1     1    16           13            6        1    1\n",
      "\n",
      "\n",
      "scaler output... \n",
      "\n",
      "   auction_id  experiment      date      hour  device_make  platform_os  \\\n",
      "0    0.000000         1.0  0.285714  0.086957     0.035088          0.0   \n",
      "1    0.000816         1.0  0.142857  0.695652     0.114035          0.0   \n",
      "\n",
      "   browser  yes  \n",
      "0      0.4  0.0  \n",
      "1      0.2  1.0  \n",
      "\n",
      "\n",
      "target_features output... \n",
      "\n",
      "features size: (1226, 6)\n",
      "\n",
      "\n",
      "set_splitter output... \n",
      "\n",
      "X_train shape: (904, 6)\n",
      "y_train shape: (904,)\n",
      "x_test shape: (123, 6)\n",
      "y_test shape: (123,)\n",
      "X_val shape: (199, 6)\n",
      "y_val shape: (199,)\n"
     ]
    }
   ],
   "source": [
    "pipe_1 = Pipeline(\n",
    "    steps=[\n",
    "        (\"label categories\", FunctionTransformer(mlp.cat_labeler, kw_args={\"cat_cols\": cat})),\n",
    "        (\"scale data\", FunctionTransformer(mlp.scaler)),\n",
    "        (\"separate target and features\", FunctionTransformer(mlp.target_feature, kw_args={\"f_r\": [0, 6], \"t\":-1})),\n",
    "        (\"divide dataset\", FunctionTransformer(mlp.set_splitter, kw_args={\"test\": 0.1, \"val\":0.2, \"rand_state\":8})),      \n",
    "        ])\n",
    "chrome_set = pipe_1.fit_transform(cm_data_clean)\n",
    "chrome_mobile_set = pipe_1.fit_transform(cm_w_data_clean)\n",
    "facebook_set = pipe_1.fit_transform(fb_data_clean)\n",
    "platform_5_set = pipe_1.fit_transform(pl_5_data_clean)\n",
    "platform_6_set = pipe_1.fit_transform(pl_6_data_clean)"
   ]
  },
  {
   "cell_type": "code",
   "execution_count": 8,
   "metadata": {},
   "outputs": [
    {
     "data": {
      "text/html": [
       "<div>\n",
       "<style scoped>\n",
       "    .dataframe tbody tr th:only-of-type {\n",
       "        vertical-align: middle;\n",
       "    }\n",
       "\n",
       "    .dataframe tbody tr th {\n",
       "        vertical-align: top;\n",
       "    }\n",
       "\n",
       "    .dataframe thead th {\n",
       "        text-align: right;\n",
       "    }\n",
       "</style>\n",
       "<table border=\"1\" class=\"dataframe\">\n",
       "  <thead>\n",
       "    <tr style=\"text-align: right;\">\n",
       "      <th></th>\n",
       "      <th>auction_id</th>\n",
       "      <th>experiment</th>\n",
       "      <th>date</th>\n",
       "      <th>hour</th>\n",
       "      <th>device_make</th>\n",
       "      <th>browser</th>\n",
       "      <th>yes</th>\n",
       "    </tr>\n",
       "  </thead>\n",
       "  <tbody>\n",
       "    <tr>\n",
       "      <th>0</th>\n",
       "      <td>0.000000</td>\n",
       "      <td>1.0</td>\n",
       "      <td>0.142857</td>\n",
       "      <td>0.695652</td>\n",
       "      <td>0.076923</td>\n",
       "      <td>0.0</td>\n",
       "      <td>1.0</td>\n",
       "    </tr>\n",
       "    <tr>\n",
       "      <th>1</th>\n",
       "      <td>0.001441</td>\n",
       "      <td>1.0</td>\n",
       "      <td>0.428571</td>\n",
       "      <td>0.347826</td>\n",
       "      <td>0.076923</td>\n",
       "      <td>0.0</td>\n",
       "      <td>0.0</td>\n",
       "    </tr>\n",
       "  </tbody>\n",
       "</table>\n",
       "</div>"
      ],
      "text/plain": [
       "   auction_id  experiment      date      hour  device_make  browser  yes\n",
       "0    0.000000         1.0  0.142857  0.695652     0.076923      0.0  1.0\n",
       "1    0.001441         1.0  0.428571  0.347826     0.076923      0.0  0.0"
      ]
     },
     "execution_count": 8,
     "metadata": {},
     "output_type": "execute_result"
    }
   ],
   "source": [
    "cm_data_clean.head(2)"
   ]
  },
  {
   "cell_type": "code",
   "execution_count": 9,
   "metadata": {},
   "outputs": [],
   "source": [
    "pipe_chrome =Pipeline([('scalar1',StandardScaler()),('lr_classifier',LogisticRegression(random_state=2))])\n",
    "pipe_chrome_webview =Pipeline([('scalar1',StandardScaler()),('lr_classifier',LogisticRegression(random_state=2))])\n",
    "pipe_facebook =Pipeline([('scalar1',StandardScaler()),('lr_classifier',LogisticRegression(random_state=2))])\n",
    "pipe_pl_5 =Pipeline([('scalar1',StandardScaler()),('lr_classifier',LogisticRegression(random_state=2))])\n",
    "pipe_pl_6 =Pipeline([('scalar1',StandardScaler()),('lr_classifier',LogisticRegression(random_state=2))])"
   ]
  },
  {
   "cell_type": "code",
   "execution_count": 10,
   "metadata": {},
   "outputs": [
    {
     "name": "stdout",
     "output_type": "stream",
     "text": [
      "The accuracy we get using the chrome mobile webview data is: 0.4864864864864865\n"
     ]
    }
   ],
   "source": [
    "\n",
    "chrome_model = pipe_chrome.fit(chrome_mobile_set[0], chrome_mobile_set[1])\n",
    "result = pipe_chrome.score(chrome_mobile_set[4],chrome_mobile_set[5])\n",
    "\n",
    "print(f'The accuracy we get using the chrome mobile webview data is: {result}')"
   ]
  },
  {
   "cell_type": "code",
   "execution_count": 11,
   "metadata": {},
   "outputs": [
    {
     "name": "stdout",
     "output_type": "stream",
     "text": [
      "The accuracy we get using the chrome mobile data is: 0.5663716814159292\n"
     ]
    }
   ],
   "source": [
    "pipe_chrome_webview.fit(chrome_set[0], chrome_set[1])\n",
    "result = pipe_chrome_webview.score(chrome_set[4],chrome_set[5])\n",
    "\n",
    "print(f'The accuracy we get using the chrome mobile data is: {result}')"
   ]
  },
  {
   "cell_type": "code",
   "execution_count": 12,
   "metadata": {},
   "outputs": [
    {
     "name": "stdout",
     "output_type": "stream",
     "text": [
      "The accuracy we get using the facebook data is: 0.46153846153846156\n"
     ]
    }
   ],
   "source": [
    "pipe_facebook.fit(facebook_set[0], facebook_set[1])\n",
    "result = pipe_facebook.score(facebook_set[4],facebook_set[5])\n",
    "\n",
    "print(f'The accuracy we get using the facebook data is: {result}')"
   ]
  },
  {
   "cell_type": "code",
   "execution_count": 13,
   "metadata": {},
   "outputs": [
    {
     "name": "stdout",
     "output_type": "stream",
     "text": [
      "The accuracy we get using the platform 5 data is: 0.3333333333333333\n"
     ]
    }
   ],
   "source": [
    "pipe_pl_5.fit(platform_5_set[0], platform_5_set[1])\n",
    "result = pipe_pl_5.score(platform_5_set[4],platform_5_set[5])\n",
    "\n",
    "print(f'The accuracy we get using the platform 5 data is: {result}')"
   ]
  },
  {
   "cell_type": "code",
   "execution_count": 14,
   "metadata": {},
   "outputs": [
    {
     "name": "stdout",
     "output_type": "stream",
     "text": [
      "The accuracy we get using the platform 6 data is: 0.5125628140703518\n"
     ]
    }
   ],
   "source": [
    "pipe_pl_6.fit(platform_6_set[0], platform_6_set[1])\n",
    "result = pipe_pl_6.score(platform_6_set[4],platform_6_set[5])\n",
    "\n",
    "print(f'The accuracy we get using the platform 6 data is: {result}')"
   ]
  },
  {
   "cell_type": "code",
   "execution_count": 15,
   "metadata": {},
   "outputs": [],
   "source": [
    "def namestr(obj, namespace):\n",
    "    return [name for name in namespace if namespace[name] is obj]"
   ]
  },
  {
   "cell_type": "code",
   "execution_count": 16,
   "metadata": {},
   "outputs": [],
   "source": [
    "clean_data_list = [cm_data_clean,cm_w_data_clean,fb_data_clean,pl_5_data_clean,pl_6_data_clean]"
   ]
  },
  {
   "cell_type": "code",
   "execution_count": 17,
   "metadata": {},
   "outputs": [],
   "source": [
    "model=LogisticRegression()\n",
    "kfold_validation=KFold(5)"
   ]
  },
  {
   "cell_type": "code",
   "execution_count": 18,
   "metadata": {},
   "outputs": [
    {
     "name": "stdout",
     "output_type": "stream",
     "text": [
      "Result of cm_data_clean\n",
      "\n",
      "[0.53956835 0.5323741  0.55395683 0.50359712 0.56834532]\n",
      "0.539568345323741 \n",
      "\n",
      "#################################\n",
      "\n",
      "\n",
      "Result of cm_w_data_clean\n",
      "\n",
      "[0.5        0.43478261 0.57777778 0.44444444 0.51111111]\n",
      "0.4936231884057971 \n",
      "\n",
      "#################################\n",
      "\n",
      "\n",
      "Result of fb_data_clean\n",
      "\n",
      "[0.5        0.58064516 0.41935484 0.41935484 0.5483871 ]\n",
      "0.4935483870967742 \n",
      "\n",
      "#################################\n",
      "\n",
      "\n",
      "Result of pl_5_data_clean\n",
      "\n",
      "[0.75       0.75       0.66666667 1.         0.33333333]\n",
      "0.7 \n",
      "\n",
      "#################################\n",
      "\n",
      "\n",
      "Result of pl_6_data_clean\n",
      "\n",
      "[0.52845528 0.52653061 0.51836735 0.53061224 0.52653061]\n",
      "0.5260992201758753 \n",
      "\n",
      "#################################\n",
      "\n",
      "\n"
     ]
    }
   ],
   "source": [
    "for clean_data in clean_data_list:\n",
    "  X = clean_data.iloc[:,:6]\n",
    "  y = clean_data.iloc[:,-1]\n",
    "  results=cross_val_score(model,X,y,cv=kfold_validation)\n",
    "  name = namestr(clean_data,globals())\n",
    "  print(f'Result of {name[0]}\\n')\n",
    "  print(results)\n",
    "  print(np.mean(results),'\\n')\n",
    "  print('#################################')\n",
    "  print('\\n')"
   ]
  },
  {
   "cell_type": "markdown",
   "metadata": {},
   "source": [
    "##### From the above k_fold validation we can see that the maximum accuracy we can get by using 5 fold and logistic regression is 0.75 from all the datasets. From this we can infer that either the data is not enough or the model is not suitable since the accuracy is less than 80%"
   ]
  },
  {
   "cell_type": "code",
   "execution_count": 70,
   "metadata": {},
   "outputs": [],
   "source": [
    "X_cm = cm_data_clean.iloc[:,:6]\n",
    "y_cm = cm_data_clean.iloc[:,-1]\n",
    "x_main,x_test,y_main,y_test = train_test_split(X_cm,y_cm,test_size=0.1)\n",
    "x_train,x_valid,y_train,y_valid = train_test_split(x_main,y_main,test_size=0.22)"
   ]
  },
  {
   "cell_type": "code",
   "execution_count": 71,
   "metadata": {},
   "outputs": [
    {
     "data": {
      "text/plain": [
       "0.5362318840579711"
      ]
     },
     "execution_count": 71,
     "metadata": {},
     "output_type": "execute_result"
    }
   ],
   "source": [
    "model_cm = LogisticRegression()\n",
    "model_cm.fit(x_train,y_train)\n",
    "model_cm.score(x_valid,y_valid)"
   ]
  },
  {
   "cell_type": "code",
   "execution_count": 72,
   "metadata": {},
   "outputs": [
    {
     "data": {
      "text/plain": [
       "array([-0.80347216])"
      ]
     },
     "execution_count": 72,
     "metadata": {},
     "output_type": "execute_result"
    }
   ],
   "source": [
    "model.intercept_"
   ]
  },
  {
   "cell_type": "code",
   "execution_count": 84,
   "metadata": {},
   "outputs": [],
   "source": [
    "coefitients_cm = model.coef_"
   ]
  },
  {
   "cell_type": "code",
   "execution_count": 74,
   "metadata": {},
   "outputs": [
    {
     "data": {
      "text/html": [
       "<div>\n",
       "<style scoped>\n",
       "    .dataframe tbody tr th:only-of-type {\n",
       "        vertical-align: middle;\n",
       "    }\n",
       "\n",
       "    .dataframe tbody tr th {\n",
       "        vertical-align: top;\n",
       "    }\n",
       "\n",
       "    .dataframe thead th {\n",
       "        text-align: right;\n",
       "    }\n",
       "</style>\n",
       "<table border=\"1\" class=\"dataframe\">\n",
       "  <thead>\n",
       "    <tr style=\"text-align: right;\">\n",
       "      <th></th>\n",
       "      <th>auction_id</th>\n",
       "      <th>experiment</th>\n",
       "      <th>date</th>\n",
       "      <th>hour</th>\n",
       "      <th>device_make</th>\n",
       "      <th>browser</th>\n",
       "      <th>yes</th>\n",
       "    </tr>\n",
       "  </thead>\n",
       "  <tbody>\n",
       "    <tr>\n",
       "      <th>0</th>\n",
       "      <td>0.000000</td>\n",
       "      <td>1.0</td>\n",
       "      <td>0.142857</td>\n",
       "      <td>0.695652</td>\n",
       "      <td>0.076923</td>\n",
       "      <td>0.0</td>\n",
       "      <td>1.0</td>\n",
       "    </tr>\n",
       "    <tr>\n",
       "      <th>1</th>\n",
       "      <td>0.001441</td>\n",
       "      <td>1.0</td>\n",
       "      <td>0.428571</td>\n",
       "      <td>0.347826</td>\n",
       "      <td>0.076923</td>\n",
       "      <td>0.0</td>\n",
       "      <td>0.0</td>\n",
       "    </tr>\n",
       "  </tbody>\n",
       "</table>\n",
       "</div>"
      ],
      "text/plain": [
       "   auction_id  experiment      date      hour  device_make  browser  yes\n",
       "0    0.000000         1.0  0.142857  0.695652     0.076923      0.0  1.0\n",
       "1    0.001441         1.0  0.428571  0.347826     0.076923      0.0  0.0"
      ]
     },
     "execution_count": 74,
     "metadata": {},
     "output_type": "execute_result"
    }
   ],
   "source": [
    "cm_data_clean.head(2)"
   ]
  },
  {
   "cell_type": "code",
   "execution_count": 79,
   "metadata": {},
   "outputs": [],
   "source": [
    "features = ['auction_id','experiment','date','hour','device_make','browser']\n",
    "feature_importance_cm_df = pd.DataFrame(features,columns=['Feature'])"
   ]
  },
  {
   "cell_type": "code",
   "execution_count": 85,
   "metadata": {},
   "outputs": [
    {
     "data": {
      "text/html": [
       "<div>\n",
       "<style scoped>\n",
       "    .dataframe tbody tr th:only-of-type {\n",
       "        vertical-align: middle;\n",
       "    }\n",
       "\n",
       "    .dataframe tbody tr th {\n",
       "        vertical-align: top;\n",
       "    }\n",
       "\n",
       "    .dataframe thead th {\n",
       "        text-align: right;\n",
       "    }\n",
       "</style>\n",
       "<table border=\"1\" class=\"dataframe\">\n",
       "  <thead>\n",
       "    <tr style=\"text-align: right;\">\n",
       "      <th></th>\n",
       "      <th>Feature</th>\n",
       "      <th>Feature's importance</th>\n",
       "    </tr>\n",
       "  </thead>\n",
       "  <tbody>\n",
       "    <tr>\n",
       "      <th>1</th>\n",
       "      <td>experiment</td>\n",
       "      <td>1.665200</td>\n",
       "    </tr>\n",
       "    <tr>\n",
       "      <th>5</th>\n",
       "      <td>browser</td>\n",
       "      <td>0.975925</td>\n",
       "    </tr>\n",
       "    <tr>\n",
       "      <th>2</th>\n",
       "      <td>date</td>\n",
       "      <td>1.131133</td>\n",
       "    </tr>\n",
       "    <tr>\n",
       "      <th>4</th>\n",
       "      <td>device_make</td>\n",
       "      <td>1.751843</td>\n",
       "    </tr>\n",
       "    <tr>\n",
       "      <th>0</th>\n",
       "      <td>auction_id</td>\n",
       "      <td>1.528225</td>\n",
       "    </tr>\n",
       "  </tbody>\n",
       "</table>\n",
       "</div>"
      ],
      "text/plain": [
       "       Feature  Feature's importance\n",
       "1   experiment              1.665200\n",
       "5      browser              0.975925\n",
       "2         date              1.131133\n",
       "4  device_make              1.751843\n",
       "0   auction_id              1.528225"
      ]
     },
     "execution_count": 85,
     "metadata": {},
     "output_type": "execute_result"
    }
   ],
   "source": [
    "feature_importance_cm_df['Feature\\'s importance'] = pow(math.e,np.array(coefitients_cm[0]))\n",
    "feature_importance_cm_df.head()"
   ]
  },
  {
   "cell_type": "code",
   "execution_count": 86,
   "metadata": {},
   "outputs": [
    {
     "data": {
      "text/html": [
       "<div>\n",
       "<style scoped>\n",
       "    .dataframe tbody tr th:only-of-type {\n",
       "        vertical-align: middle;\n",
       "    }\n",
       "\n",
       "    .dataframe tbody tr th {\n",
       "        vertical-align: top;\n",
       "    }\n",
       "\n",
       "    .dataframe thead th {\n",
       "        text-align: right;\n",
       "    }\n",
       "</style>\n",
       "<table border=\"1\" class=\"dataframe\">\n",
       "  <thead>\n",
       "    <tr style=\"text-align: right;\">\n",
       "      <th></th>\n",
       "      <th>Feature</th>\n",
       "      <th>Feature's importance</th>\n",
       "    </tr>\n",
       "  </thead>\n",
       "  <tbody>\n",
       "    <tr>\n",
       "      <th>5</th>\n",
       "      <td>browser</td>\n",
       "      <td>0.975925</td>\n",
       "    </tr>\n",
       "    <tr>\n",
       "      <th>3</th>\n",
       "      <td>hour</td>\n",
       "      <td>1.000000</td>\n",
       "    </tr>\n",
       "    <tr>\n",
       "      <th>2</th>\n",
       "      <td>date</td>\n",
       "      <td>1.131133</td>\n",
       "    </tr>\n",
       "    <tr>\n",
       "      <th>0</th>\n",
       "      <td>auction_id</td>\n",
       "      <td>1.528225</td>\n",
       "    </tr>\n",
       "    <tr>\n",
       "      <th>1</th>\n",
       "      <td>experiment</td>\n",
       "      <td>1.665200</td>\n",
       "    </tr>\n",
       "    <tr>\n",
       "      <th>4</th>\n",
       "      <td>device_make</td>\n",
       "      <td>1.751843</td>\n",
       "    </tr>\n",
       "  </tbody>\n",
       "</table>\n",
       "</div>"
      ],
      "text/plain": [
       "       Feature  Feature's importance\n",
       "5      browser              0.975925\n",
       "3         hour              1.000000\n",
       "2         date              1.131133\n",
       "0   auction_id              1.528225\n",
       "1   experiment              1.665200\n",
       "4  device_make              1.751843"
      ]
     },
     "execution_count": 86,
     "metadata": {},
     "output_type": "execute_result"
    }
   ],
   "source": [
    "feature_importance_cm_df = feature_importance_cm_df.sort_values(by=\"Feature's importance\")\n",
    "feature_importance_cm_df"
   ]
  },
  {
   "cell_type": "code",
   "execution_count": 87,
   "metadata": {},
   "outputs": [
    {
     "data": {
      "text/plain": [
       "Text(0.5, 1.0, 'Feature importance for the chrome dataset')"
      ]
     },
     "execution_count": 87,
     "metadata": {},
     "output_type": "execute_result"
    },
    {
     "data": {
      "image/png": "[encoded data removed]",
      "text/plain": [
       "<Figure size 432x288 with 1 Axes>"
      ]
     },
     "metadata": {
      "needs_background": "light"
     },
     "output_type": "display_data"
    }
   ],
   "source": [
    "feature_importance_cm_df.plot.bar(x='Feature', y=\"Feature's importance\", rot=90)\n",
    "plt.title('Feature importance for the chrome dataset')"
   ]
  },
  {
   "cell_type": "code",
   "execution_count": 89,
   "metadata": {},
   "outputs": [
    {
     "data": {
      "text/plain": [
       "Text(0.5, 1.0, 'Feature importance for the chrome mobile webview dataset')"
      ]
     },
     "execution_count": 89,
     "metadata": {},
     "output_type": "execute_result"
    },
    {
     "data": {
      "image/png": "[encoded data removed]",
      "text/plain": [
       "<Figure size 432x288 with 1 Axes>"
      ]
     },
     "metadata": {
      "needs_background": "light"
     },
     "output_type": "display_data"
    }
   ],
   "source": [
    "X_cm_w = cm_w_data_clean.iloc[:,:6]\n",
    "y_cm_w = cm_w_data_clean.iloc[:,-1]\n",
    "x_main,x_test,y_main,y_test = train_test_split(X_cm_w,y_cm_w,test_size=0.1)\n",
    "x_train,x_valid,y_train,y_valid = train_test_split(x_main,y_main,test_size=0.22)\n",
    "model_cm_w = LogisticRegression()\n",
    "model_cm_w.fit(x_train,y_train)\n",
    "model_cm_w.score(x_valid,y_valid)\n",
    "coefitients_cm_w = model_cm_w.coef_\n",
    "feature_importance_cm_w_df = pd.DataFrame(features,columns=['Feature'])\n",
    "feature_importance_cm_w_df['Feature\\'s importance'] = pow(math.e,np.array(coefitients_cm_w[0]))\n",
    "feature_importance_cm_w_df.plot.bar(x='Feature', y=\"Feature's importance\", rot=90)\n",
    "plt.title('Feature importance for the chrome mobile webview dataset')"
   ]
  },
  {
   "cell_type": "code",
   "execution_count": 96,
   "metadata": {},
   "outputs": [
    {
     "data": {
      "text/plain": [
       "Text(0.5, 1.0, 'Feature importance for the facebook dataset')"
      ]
     },
     "execution_count": 96,
     "metadata": {},
     "output_type": "execute_result"
    },
    {
     "data": {
      "image/png": "[encoded data removed]",
      "text/plain": [
       "<Figure size 432x288 with 1 Axes>"
      ]
     },
     "metadata": {
      "needs_background": "light"
     },
     "output_type": "display_data"
    }
   ],
   "source": [
    "X_fb = fb_data_clean.iloc[:,:6]\n",
    "y_fb = fb_data_clean.iloc[:,-1]\n",
    "x_main,x_test,y_main,y_test = train_test_split(X_fb,y_fb,test_size=0.1)\n",
    "x_train,x_valid,y_train,y_valid = train_test_split(x_main,y_main,test_size=0.22)\n",
    "model_fb = LogisticRegression()\n",
    "model_fb.fit(x_train,y_train)\n",
    "model_fb.score(x_valid,y_valid)\n",
    "coefitients_fb = model_fb.coef_\n",
    "feature_importance_fb_df = pd.DataFrame(features,columns=['Feature'])\n",
    "feature_importance_fb_df['Feature\\'s importance'] = pow(math.e,np.array(coefitients_fb[0]))\n",
    "feature_importance_fb_df.plot.bar(x='Feature', y=\"Feature's importance\", rot=90)\n",
    "plt.title('Feature importance for the facebook dataset')"
   ]
  },
  {
   "cell_type": "code",
   "execution_count": 95,
   "metadata": {},
   "outputs": [
    {
     "data": {
      "text/plain": [
       "Text(0.5, 1.0, 'Feature importance for the platform 5 dataset')"
      ]
     },
     "execution_count": 95,
     "metadata": {},
     "output_type": "execute_result"
    },
    {
     "data": {
      "image/png": "[encoded data removed]",
      "text/plain": [
       "<Figure size 432x288 with 1 Axes>"
      ]
     },
     "metadata": {
      "needs_background": "light"
     },
     "output_type": "display_data"
    }
   ],
   "source": [
    "X_pl_5 = pl_5_data_clean.iloc[:,:6]\n",
    "y_pl_5 = pl_5_data_clean.iloc[:,-1]\n",
    "x_main,x_test,y_main,y_test = train_test_split(X_pl_5,y_pl_5,test_size=0.1)\n",
    "x_train,x_valid,y_train,y_valid = train_test_split(x_main,y_main,test_size=0.22)\n",
    "model_pl_5 = LogisticRegression()\n",
    "model_pl_5.fit(x_train,y_train)\n",
    "model_pl_5.score(x_valid,y_valid)\n",
    "coefitients_pl_5 = model_pl_5.coef_\n",
    "feature_importance_pl_5_df = pd.DataFrame(features,columns=['Feature'])\n",
    "feature_importance_pl_5_df['Feature\\'s importance'] = pow(math.e,np.array(coefitients_pl_5[0]))\n",
    "feature_importance_pl_5_df.plot.bar(x='Feature', y=\"Feature's importance\", rot=90)\n",
    "plt.title('Feature importance for the platform 5 dataset')"
   ]
  },
  {
   "cell_type": "code",
   "execution_count": 94,
   "metadata": {},
   "outputs": [
    {
     "data": {
      "text/plain": [
       "Text(0.5, 1.0, 'Feature importance for the platform 6 dataset')"
      ]
     },
     "execution_count": 94,
     "metadata": {},
     "output_type": "execute_result"
    },
    {
     "data": {
      "image/png": "[encoded data removed]",
      "text/plain": [
       "<Figure size 432x288 with 1 Axes>"
      ]
     },
     "metadata": {
      "needs_background": "light"
     },
     "output_type": "display_data"
    }
   ],
   "source": [
    "X_pl_6 = pl_6_data_clean.iloc[:,:6]\n",
    "y_pl_6 = pl_6_data_clean.iloc[:,-1]\n",
    "x_main,x_test,y_main,y_test = train_test_split(X_pl_6,y_pl_6,test_size=0.1)\n",
    "x_train,x_valid,y_train,y_valid = train_test_split(x_main,y_main,test_size=0.22)\n",
    "model_pl_6 = LogisticRegression()\n",
    "model_pl_6.fit(x_train,y_train)\n",
    "model_pl_6.score(x_valid,y_valid)\n",
    "coefitients_pl_6 = model_pl_6.coef_\n",
    "feature_importance_pl_6_df = pd.DataFrame(features,columns=['Feature'])\n",
    "feature_importance_pl_6_df['Feature\\'s importance'] = pow(math.e,np.array(coefitients_pl_6[0]))\n",
    "feature_importance_pl_6_df.plot.bar(x='Feature', y=\"Feature's importance\", rot=90)\n",
    "plt.title('Feature importance for the platform 6 dataset')"
   ]
  },
  {
   "cell_type": "code",
   "execution_count": null,
   "metadata": {},
   "outputs": [],
   "source": []
  }
 ],
 "metadata": {
  "interpreter": {
   "hash": "39075acd572946124b932be27bf9b0f60cbd7d0b32c63cc1adbcac888453a637"
  },
  "kernelspec": {
   "display_name": "Python 3.9.12 ('base')",
   "language": "python",
   "name": "python3"
  },
  "language_info": {
   "codemirror_mode": {
    "name": "ipython",
    "version": 3
   },
   "file_extension": ".py",
   "mimetype": "text/x-python",
   "name": "python",
   "nbconvert_exporter": "python",
   "pygments_lexer": "ipython3",
   "version": "3.9.12"
  },
  "orig_nbformat": 4
 },
 "nbformat": 4,
 "nbformat_minor": 2
}
